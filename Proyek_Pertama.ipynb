{
  "nbformat": 4,
  "nbformat_minor": 0,
  "metadata": {
    "colab": {
      "name": "Proyek_Pertama.ipynb",
      "provenance": [],
      "collapsed_sections": [
        "qUZ1KhONksds",
        "IRj6GKcBlDh-"
      ]
    },
    "kernelspec": {
      "name": "python3",
      "display_name": "Python 3"
    },
    "language_info": {
      "name": "python"
    }
  },
  "cells": [
    {
      "cell_type": "markdown",
      "metadata": {
        "id": "bAbQ0m83kWFz"
      },
      "source": [
        "# NLP Model for Hate Speech Classification"
      ]
    },
    {
      "cell_type": "markdown",
      "metadata": {
        "id": "qUZ1KhONksds"
      },
      "source": [
        "## Dev's Profile"
      ]
    },
    {
      "cell_type": "markdown",
      "metadata": {
        "id": "96RZO62EkxRS"
      },
      "source": [
        "Nama : Tariq Fitria Aziz <br>\n",
        "Bergabung: 02 September 2020 <br>\n",
        "Asal: Kabupaten Wonogiri, Jawa Tengah"
      ]
    },
    {
      "cell_type": "markdown",
      "metadata": {
        "id": "IRj6GKcBlDh-"
      },
      "source": [
        "## Problem Desc"
      ]
    },
    {
      "cell_type": "markdown",
      "metadata": {
        "id": "X_6e_LIllJ3G"
      },
      "source": [
        "Di sini, akan dibuat sebuah model Natural Language Processing (NLP) yang dapat digunakan untuk mengklasifikasikan tweet tentang Coronavirus, berdasarkan sentimennya. <br>\n",
        "\n",
        "Dataset yang digunakan dapat dilihat di sumber berikut: https://www.kaggle.com/datatattle/covid-19-nlp-text-classification"
      ]
    },
    {
      "cell_type": "markdown",
      "metadata": {
        "id": "B9OSbZXvlkLA"
      },
      "source": [
        "## Part I: Preparation"
      ]
    },
    {
      "cell_type": "markdown",
      "metadata": {
        "id": "KribsViwmA2W"
      },
      "source": [
        "### Import Library"
      ]
    },
    {
      "cell_type": "code",
      "metadata": {
        "id": "V7bLE8LgkLYp"
      },
      "source": [
        "from google.colab import drive\n",
        "import chardet\n",
        "import string\n",
        "\n",
        "import nltk\n",
        "import spacy\n",
        "from nltk.corpus import stopwords\n",
        "\n",
        "import tensorflow as tf\n",
        "import tensorflow_hub as hub\n",
        "from tensorflow.keras.models import Sequential\n",
        "from tensorflow.keras.layers import Dense\n",
        "from tensorflow.keras.layers import LSTM\n",
        "from tensorflow.keras.layers import Embedding\n",
        "from tensorflow.keras.layers import Dropout\n",
        "from tensorflow.keras.preprocessing.text import Tokenizer\n",
        "from tensorflow.keras.preprocessing.sequence import pad_sequences\n",
        "from tensorflow.keras.callbacks import EarlyStopping\n",
        "from tensorflow.keras.callbacks import ModelCheckpoint\n",
        "\n",
        "from sklearn.model_selection import train_test_split\n",
        "\n",
        "import pandas as pd\n",
        "import matplotlib.pyplot as plt\n",
        "import numpy as np\n",
        "%matplotlib inline"
      ],
      "execution_count": 1,
      "outputs": []
    },
    {
      "cell_type": "markdown",
      "metadata": {
        "id": "_ke_m8nBnmEj"
      },
      "source": [
        "### Set Drive Folder"
      ]
    },
    {
      "cell_type": "code",
      "metadata": {
        "colab": {
          "base_uri": "https://localhost:8080/"
        },
        "id": "etlytOSdnlJI",
        "outputId": "04debcdf-50cb-4448-a28b-4d766e4cf6b9"
      },
      "source": [
        "drive.mount('/content/drive/')"
      ],
      "execution_count": 3,
      "outputs": [
        {
          "output_type": "stream",
          "name": "stdout",
          "text": [
            "Mounted at /content/drive/\n"
          ]
        }
      ]
    },
    {
      "cell_type": "markdown",
      "metadata": {
        "id": "8R6T9bSTn-hs"
      },
      "source": [
        "## Part II: Data Preparation"
      ]
    },
    {
      "cell_type": "markdown",
      "metadata": {
        "id": "gpUuxlsIqcV4"
      },
      "source": [
        "### Data Loading"
      ]
    },
    {
      "cell_type": "code",
      "metadata": {
        "colab": {
          "base_uri": "https://localhost:8080/",
          "height": 206
        },
        "id": "G-osF7amoHuL",
        "outputId": "b7edf59f-12a2-4e81-9b2a-e8b5309f07e4"
      },
      "source": [
        "data_train = pd.read_csv('/content/drive/MyDrive/Datasets/Corona_NLP_train.csv', encoding='latin-1')\n",
        "data_train.head(5)"
      ],
      "execution_count": 4,
      "outputs": [
        {
          "output_type": "execute_result",
          "data": {
            "text/html": [
              "<div>\n",
              "<style scoped>\n",
              "    .dataframe tbody tr th:only-of-type {\n",
              "        vertical-align: middle;\n",
              "    }\n",
              "\n",
              "    .dataframe tbody tr th {\n",
              "        vertical-align: top;\n",
              "    }\n",
              "\n",
              "    .dataframe thead th {\n",
              "        text-align: right;\n",
              "    }\n",
              "</style>\n",
              "<table border=\"1\" class=\"dataframe\">\n",
              "  <thead>\n",
              "    <tr style=\"text-align: right;\">\n",
              "      <th></th>\n",
              "      <th>UserName</th>\n",
              "      <th>ScreenName</th>\n",
              "      <th>Location</th>\n",
              "      <th>TweetAt</th>\n",
              "      <th>OriginalTweet</th>\n",
              "      <th>Sentiment</th>\n",
              "    </tr>\n",
              "  </thead>\n",
              "  <tbody>\n",
              "    <tr>\n",
              "      <th>0</th>\n",
              "      <td>3799</td>\n",
              "      <td>48751</td>\n",
              "      <td>London</td>\n",
              "      <td>16-03-2020</td>\n",
              "      <td>@MeNyrbie @Phil_Gahan @Chrisitv https://t.co/i...</td>\n",
              "      <td>Neutral</td>\n",
              "    </tr>\n",
              "    <tr>\n",
              "      <th>1</th>\n",
              "      <td>3800</td>\n",
              "      <td>48752</td>\n",
              "      <td>UK</td>\n",
              "      <td>16-03-2020</td>\n",
              "      <td>advice Talk to your neighbours family to excha...</td>\n",
              "      <td>Positive</td>\n",
              "    </tr>\n",
              "    <tr>\n",
              "      <th>2</th>\n",
              "      <td>3801</td>\n",
              "      <td>48753</td>\n",
              "      <td>Vagabonds</td>\n",
              "      <td>16-03-2020</td>\n",
              "      <td>Coronavirus Australia: Woolworths to give elde...</td>\n",
              "      <td>Positive</td>\n",
              "    </tr>\n",
              "    <tr>\n",
              "      <th>3</th>\n",
              "      <td>3802</td>\n",
              "      <td>48754</td>\n",
              "      <td>NaN</td>\n",
              "      <td>16-03-2020</td>\n",
              "      <td>My food stock is not the only one which is emp...</td>\n",
              "      <td>Positive</td>\n",
              "    </tr>\n",
              "    <tr>\n",
              "      <th>4</th>\n",
              "      <td>3803</td>\n",
              "      <td>48755</td>\n",
              "      <td>NaN</td>\n",
              "      <td>16-03-2020</td>\n",
              "      <td>Me, ready to go at supermarket during the #COV...</td>\n",
              "      <td>Extremely Negative</td>\n",
              "    </tr>\n",
              "  </tbody>\n",
              "</table>\n",
              "</div>"
            ],
            "text/plain": [
              "   UserName  ...           Sentiment\n",
              "0      3799  ...             Neutral\n",
              "1      3800  ...            Positive\n",
              "2      3801  ...            Positive\n",
              "3      3802  ...            Positive\n",
              "4      3803  ...  Extremely Negative\n",
              "\n",
              "[5 rows x 6 columns]"
            ]
          },
          "metadata": {},
          "execution_count": 4
        }
      ]
    },
    {
      "cell_type": "code",
      "metadata": {
        "colab": {
          "base_uri": "https://localhost:8080/",
          "height": 206
        },
        "id": "51JgNGfM8Uke",
        "outputId": "254dd3b7-d891-4e8e-ed92-fa839a96527f"
      },
      "source": [
        "data_test = pd.read_csv('/content/drive/MyDrive/Datasets/Corona_NLP_test.csv', encoding='latin-1')\n",
        "data_test.head(5)"
      ],
      "execution_count": 5,
      "outputs": [
        {
          "output_type": "execute_result",
          "data": {
            "text/html": [
              "<div>\n",
              "<style scoped>\n",
              "    .dataframe tbody tr th:only-of-type {\n",
              "        vertical-align: middle;\n",
              "    }\n",
              "\n",
              "    .dataframe tbody tr th {\n",
              "        vertical-align: top;\n",
              "    }\n",
              "\n",
              "    .dataframe thead th {\n",
              "        text-align: right;\n",
              "    }\n",
              "</style>\n",
              "<table border=\"1\" class=\"dataframe\">\n",
              "  <thead>\n",
              "    <tr style=\"text-align: right;\">\n",
              "      <th></th>\n",
              "      <th>UserName</th>\n",
              "      <th>ScreenName</th>\n",
              "      <th>Location</th>\n",
              "      <th>TweetAt</th>\n",
              "      <th>OriginalTweet</th>\n",
              "      <th>Sentiment</th>\n",
              "    </tr>\n",
              "  </thead>\n",
              "  <tbody>\n",
              "    <tr>\n",
              "      <th>0</th>\n",
              "      <td>1</td>\n",
              "      <td>44953</td>\n",
              "      <td>NYC</td>\n",
              "      <td>02-03-2020</td>\n",
              "      <td>TRENDING: New Yorkers encounter empty supermar...</td>\n",
              "      <td>Extremely Negative</td>\n",
              "    </tr>\n",
              "    <tr>\n",
              "      <th>1</th>\n",
              "      <td>2</td>\n",
              "      <td>44954</td>\n",
              "      <td>Seattle, WA</td>\n",
              "      <td>02-03-2020</td>\n",
              "      <td>When I couldn't find hand sanitizer at Fred Me...</td>\n",
              "      <td>Positive</td>\n",
              "    </tr>\n",
              "    <tr>\n",
              "      <th>2</th>\n",
              "      <td>3</td>\n",
              "      <td>44955</td>\n",
              "      <td>NaN</td>\n",
              "      <td>02-03-2020</td>\n",
              "      <td>Find out how you can protect yourself and love...</td>\n",
              "      <td>Extremely Positive</td>\n",
              "    </tr>\n",
              "    <tr>\n",
              "      <th>3</th>\n",
              "      <td>4</td>\n",
              "      <td>44956</td>\n",
              "      <td>Chicagoland</td>\n",
              "      <td>02-03-2020</td>\n",
              "      <td>#Panic buying hits #NewYork City as anxious sh...</td>\n",
              "      <td>Negative</td>\n",
              "    </tr>\n",
              "    <tr>\n",
              "      <th>4</th>\n",
              "      <td>5</td>\n",
              "      <td>44957</td>\n",
              "      <td>Melbourne, Victoria</td>\n",
              "      <td>03-03-2020</td>\n",
              "      <td>#toiletpaper #dunnypaper #coronavirus #coronav...</td>\n",
              "      <td>Neutral</td>\n",
              "    </tr>\n",
              "  </tbody>\n",
              "</table>\n",
              "</div>"
            ],
            "text/plain": [
              "   UserName  ...           Sentiment\n",
              "0         1  ...  Extremely Negative\n",
              "1         2  ...            Positive\n",
              "2         3  ...  Extremely Positive\n",
              "3         4  ...            Negative\n",
              "4         5  ...             Neutral\n",
              "\n",
              "[5 rows x 6 columns]"
            ]
          },
          "metadata": {},
          "execution_count": 5
        }
      ]
    },
    {
      "cell_type": "markdown",
      "metadata": {
        "id": "t8dBHd95qkJF"
      },
      "source": [
        "### Data Information"
      ]
    },
    {
      "cell_type": "code",
      "metadata": {
        "colab": {
          "base_uri": "https://localhost:8080/"
        },
        "id": "1t3Dv_bdqgHQ",
        "outputId": "4c1ecbef-a65f-4e25-abb1-af65a802623b"
      },
      "source": [
        "data_train.info()"
      ],
      "execution_count": 6,
      "outputs": [
        {
          "output_type": "stream",
          "name": "stdout",
          "text": [
            "<class 'pandas.core.frame.DataFrame'>\n",
            "RangeIndex: 41157 entries, 0 to 41156\n",
            "Data columns (total 6 columns):\n",
            " #   Column         Non-Null Count  Dtype \n",
            "---  ------         --------------  ----- \n",
            " 0   UserName       41157 non-null  int64 \n",
            " 1   ScreenName     41157 non-null  int64 \n",
            " 2   Location       32567 non-null  object\n",
            " 3   TweetAt        41157 non-null  object\n",
            " 4   OriginalTweet  41157 non-null  object\n",
            " 5   Sentiment      41157 non-null  object\n",
            "dtypes: int64(2), object(4)\n",
            "memory usage: 1.9+ MB\n"
          ]
        }
      ]
    },
    {
      "cell_type": "code",
      "metadata": {
        "colab": {
          "base_uri": "https://localhost:8080/"
        },
        "id": "bgfjcNTk59op",
        "outputId": "da21beed-616f-45c0-c062-ba0318dbf3ad"
      },
      "source": [
        "data_test.info()"
      ],
      "execution_count": 7,
      "outputs": [
        {
          "output_type": "stream",
          "name": "stdout",
          "text": [
            "<class 'pandas.core.frame.DataFrame'>\n",
            "RangeIndex: 3798 entries, 0 to 3797\n",
            "Data columns (total 6 columns):\n",
            " #   Column         Non-Null Count  Dtype \n",
            "---  ------         --------------  ----- \n",
            " 0   UserName       3798 non-null   int64 \n",
            " 1   ScreenName     3798 non-null   int64 \n",
            " 2   Location       2964 non-null   object\n",
            " 3   TweetAt        3798 non-null   object\n",
            " 4   OriginalTweet  3798 non-null   object\n",
            " 5   Sentiment      3798 non-null   object\n",
            "dtypes: int64(2), object(4)\n",
            "memory usage: 178.2+ KB\n"
          ]
        }
      ]
    },
    {
      "cell_type": "markdown",
      "metadata": {
        "id": "8MkdO35gtojk"
      },
      "source": [
        "### Data Preprocessing"
      ]
    },
    {
      "cell_type": "markdown",
      "metadata": {
        "id": "UEMBdJoyuTS9"
      },
      "source": [
        "Drop Unneeded Labels"
      ]
    },
    {
      "cell_type": "code",
      "metadata": {
        "id": "m4vmuZh3ttWC"
      },
      "source": [
        "columns = ['UserName', 'ScreenName', 'Location', 'TweetAt']\n",
        "data_train2 = data_train.drop(columns = columns)"
      ],
      "execution_count": 8,
      "outputs": []
    },
    {
      "cell_type": "code",
      "metadata": {
        "id": "FLMjW2F_6rTb"
      },
      "source": [
        "data_test2 = data_test.drop(columns = columns)"
      ],
      "execution_count": 9,
      "outputs": []
    },
    {
      "cell_type": "markdown",
      "metadata": {
        "id": "Y0JlvGm9W9-E"
      },
      "source": [
        "Change Labels Value"
      ]
    },
    {
      "cell_type": "code",
      "metadata": {
        "colab": {
          "base_uri": "https://localhost:8080/"
        },
        "id": "U2Oe-ACvXS0v",
        "outputId": "f03e3ebd-84c2-4528-e139-5beeacbb66ce"
      },
      "source": [
        "data_train2['Sentiment'].unique()"
      ],
      "execution_count": 10,
      "outputs": [
        {
          "output_type": "execute_result",
          "data": {
            "text/plain": [
              "array(['Neutral', 'Positive', 'Extremely Negative', 'Negative',\n",
              "       'Extremely Positive'], dtype=object)"
            ]
          },
          "metadata": {},
          "execution_count": 10
        }
      ]
    },
    {
      "cell_type": "code",
      "metadata": {
        "id": "6lbeuMYLXAut"
      },
      "source": [
        "data_train2['Sentiment'] = data_train2['Sentiment'].replace('Extremely Positive', 'Positive')\n",
        "data_train2['Sentiment'] = data_train2['Sentiment'].replace('Extremely Negative', 'Negative')"
      ],
      "execution_count": 11,
      "outputs": []
    },
    {
      "cell_type": "code",
      "metadata": {
        "colab": {
          "base_uri": "https://localhost:8080/"
        },
        "id": "OaWOW_SFXfWs",
        "outputId": "527fc9f8-56a1-46e9-d5d1-09bb941ebf95"
      },
      "source": [
        "data_train2['Sentiment'].unique()"
      ],
      "execution_count": 12,
      "outputs": [
        {
          "output_type": "execute_result",
          "data": {
            "text/plain": [
              "array(['Neutral', 'Positive', 'Negative'], dtype=object)"
            ]
          },
          "metadata": {},
          "execution_count": 12
        }
      ]
    },
    {
      "cell_type": "code",
      "metadata": {
        "id": "qFgoDwtSXh9a"
      },
      "source": [
        "data_test2['Sentiment'] = data_test2['Sentiment'].replace('Extremely Positive', 'Positive')\n",
        "data_test2['Sentiment'] = data_test2['Sentiment'].replace('Extremely Negative', 'Negative')"
      ],
      "execution_count": 13,
      "outputs": []
    },
    {
      "cell_type": "code",
      "metadata": {
        "colab": {
          "base_uri": "https://localhost:8080/"
        },
        "id": "KGDHZzMhXoI1",
        "outputId": "c51354a4-1e87-4031-bbcf-5beb362412c8"
      },
      "source": [
        "data_test2['Sentiment'].unique()"
      ],
      "execution_count": 14,
      "outputs": [
        {
          "output_type": "execute_result",
          "data": {
            "text/plain": [
              "array(['Negative', 'Positive', 'Neutral'], dtype=object)"
            ]
          },
          "metadata": {},
          "execution_count": 14
        }
      ]
    },
    {
      "cell_type": "markdown",
      "metadata": {
        "id": "uie2F4XI7ARz"
      },
      "source": [
        "One-Hot-Encoding"
      ]
    },
    {
      "cell_type": "code",
      "metadata": {
        "colab": {
          "base_uri": "https://localhost:8080/",
          "height": 363
        },
        "id": "jiftN1dt7Cxv",
        "outputId": "a3d50751-3335-47b1-8a76-28188be30d22"
      },
      "source": [
        "cat = pd.get_dummies(data_train2['Sentiment'])\n",
        "data_train3 = pd.concat([data_train2, cat], axis=1)\n",
        "data_train3 = data_train3.drop(columns='Sentiment')\n",
        "data_train3.head(10)"
      ],
      "execution_count": 15,
      "outputs": [
        {
          "output_type": "execute_result",
          "data": {
            "text/html": [
              "<div>\n",
              "<style scoped>\n",
              "    .dataframe tbody tr th:only-of-type {\n",
              "        vertical-align: middle;\n",
              "    }\n",
              "\n",
              "    .dataframe tbody tr th {\n",
              "        vertical-align: top;\n",
              "    }\n",
              "\n",
              "    .dataframe thead th {\n",
              "        text-align: right;\n",
              "    }\n",
              "</style>\n",
              "<table border=\"1\" class=\"dataframe\">\n",
              "  <thead>\n",
              "    <tr style=\"text-align: right;\">\n",
              "      <th></th>\n",
              "      <th>OriginalTweet</th>\n",
              "      <th>Negative</th>\n",
              "      <th>Neutral</th>\n",
              "      <th>Positive</th>\n",
              "    </tr>\n",
              "  </thead>\n",
              "  <tbody>\n",
              "    <tr>\n",
              "      <th>0</th>\n",
              "      <td>@MeNyrbie @Phil_Gahan @Chrisitv https://t.co/i...</td>\n",
              "      <td>0</td>\n",
              "      <td>1</td>\n",
              "      <td>0</td>\n",
              "    </tr>\n",
              "    <tr>\n",
              "      <th>1</th>\n",
              "      <td>advice Talk to your neighbours family to excha...</td>\n",
              "      <td>0</td>\n",
              "      <td>0</td>\n",
              "      <td>1</td>\n",
              "    </tr>\n",
              "    <tr>\n",
              "      <th>2</th>\n",
              "      <td>Coronavirus Australia: Woolworths to give elde...</td>\n",
              "      <td>0</td>\n",
              "      <td>0</td>\n",
              "      <td>1</td>\n",
              "    </tr>\n",
              "    <tr>\n",
              "      <th>3</th>\n",
              "      <td>My food stock is not the only one which is emp...</td>\n",
              "      <td>0</td>\n",
              "      <td>0</td>\n",
              "      <td>1</td>\n",
              "    </tr>\n",
              "    <tr>\n",
              "      <th>4</th>\n",
              "      <td>Me, ready to go at supermarket during the #COV...</td>\n",
              "      <td>1</td>\n",
              "      <td>0</td>\n",
              "      <td>0</td>\n",
              "    </tr>\n",
              "    <tr>\n",
              "      <th>5</th>\n",
              "      <td>As news of the regionÂs first confirmed COVID...</td>\n",
              "      <td>0</td>\n",
              "      <td>0</td>\n",
              "      <td>1</td>\n",
              "    </tr>\n",
              "    <tr>\n",
              "      <th>6</th>\n",
              "      <td>Cashier at grocery store was sharing his insig...</td>\n",
              "      <td>0</td>\n",
              "      <td>0</td>\n",
              "      <td>1</td>\n",
              "    </tr>\n",
              "    <tr>\n",
              "      <th>7</th>\n",
              "      <td>Was at the supermarket today. Didn't buy toile...</td>\n",
              "      <td>0</td>\n",
              "      <td>1</td>\n",
              "      <td>0</td>\n",
              "    </tr>\n",
              "    <tr>\n",
              "      <th>8</th>\n",
              "      <td>Due to COVID-19 our retail store and classroom...</td>\n",
              "      <td>0</td>\n",
              "      <td>0</td>\n",
              "      <td>1</td>\n",
              "    </tr>\n",
              "    <tr>\n",
              "      <th>9</th>\n",
              "      <td>For corona prevention,we should stop to buy th...</td>\n",
              "      <td>1</td>\n",
              "      <td>0</td>\n",
              "      <td>0</td>\n",
              "    </tr>\n",
              "  </tbody>\n",
              "</table>\n",
              "</div>"
            ],
            "text/plain": [
              "                                       OriginalTweet  ...  Positive\n",
              "0  @MeNyrbie @Phil_Gahan @Chrisitv https://t.co/i...  ...         0\n",
              "1  advice Talk to your neighbours family to excha...  ...         1\n",
              "2  Coronavirus Australia: Woolworths to give elde...  ...         1\n",
              "3  My food stock is not the only one which is emp...  ...         1\n",
              "4  Me, ready to go at supermarket during the #COV...  ...         0\n",
              "5  As news of the regionÂs first confirmed COVID...  ...         1\n",
              "6  Cashier at grocery store was sharing his insig...  ...         1\n",
              "7  Was at the supermarket today. Didn't buy toile...  ...         0\n",
              "8  Due to COVID-19 our retail store and classroom...  ...         1\n",
              "9  For corona prevention,we should stop to buy th...  ...         0\n",
              "\n",
              "[10 rows x 4 columns]"
            ]
          },
          "metadata": {},
          "execution_count": 15
        }
      ]
    },
    {
      "cell_type": "code",
      "metadata": {
        "colab": {
          "base_uri": "https://localhost:8080/",
          "height": 363
        },
        "id": "0oORzPpP7rXY",
        "outputId": "fcda3330-c4c9-4815-fc66-3aad2deb421f"
      },
      "source": [
        "cat2 = pd.get_dummies(data_test2['Sentiment'])\n",
        "data_test3 = pd.concat([data_test2, cat2], axis=1)\n",
        "data_test3 = data_test3.drop(columns='Sentiment')\n",
        "data_test3.head(10)"
      ],
      "execution_count": 16,
      "outputs": [
        {
          "output_type": "execute_result",
          "data": {
            "text/html": [
              "<div>\n",
              "<style scoped>\n",
              "    .dataframe tbody tr th:only-of-type {\n",
              "        vertical-align: middle;\n",
              "    }\n",
              "\n",
              "    .dataframe tbody tr th {\n",
              "        vertical-align: top;\n",
              "    }\n",
              "\n",
              "    .dataframe thead th {\n",
              "        text-align: right;\n",
              "    }\n",
              "</style>\n",
              "<table border=\"1\" class=\"dataframe\">\n",
              "  <thead>\n",
              "    <tr style=\"text-align: right;\">\n",
              "      <th></th>\n",
              "      <th>OriginalTweet</th>\n",
              "      <th>Negative</th>\n",
              "      <th>Neutral</th>\n",
              "      <th>Positive</th>\n",
              "    </tr>\n",
              "  </thead>\n",
              "  <tbody>\n",
              "    <tr>\n",
              "      <th>0</th>\n",
              "      <td>TRENDING: New Yorkers encounter empty supermar...</td>\n",
              "      <td>1</td>\n",
              "      <td>0</td>\n",
              "      <td>0</td>\n",
              "    </tr>\n",
              "    <tr>\n",
              "      <th>1</th>\n",
              "      <td>When I couldn't find hand sanitizer at Fred Me...</td>\n",
              "      <td>0</td>\n",
              "      <td>0</td>\n",
              "      <td>1</td>\n",
              "    </tr>\n",
              "    <tr>\n",
              "      <th>2</th>\n",
              "      <td>Find out how you can protect yourself and love...</td>\n",
              "      <td>0</td>\n",
              "      <td>0</td>\n",
              "      <td>1</td>\n",
              "    </tr>\n",
              "    <tr>\n",
              "      <th>3</th>\n",
              "      <td>#Panic buying hits #NewYork City as anxious sh...</td>\n",
              "      <td>1</td>\n",
              "      <td>0</td>\n",
              "      <td>0</td>\n",
              "    </tr>\n",
              "    <tr>\n",
              "      <th>4</th>\n",
              "      <td>#toiletpaper #dunnypaper #coronavirus #coronav...</td>\n",
              "      <td>0</td>\n",
              "      <td>1</td>\n",
              "      <td>0</td>\n",
              "    </tr>\n",
              "    <tr>\n",
              "      <th>5</th>\n",
              "      <td>Do you remember the last time you paid $2.99 a...</td>\n",
              "      <td>0</td>\n",
              "      <td>1</td>\n",
              "      <td>0</td>\n",
              "    </tr>\n",
              "    <tr>\n",
              "      <th>6</th>\n",
              "      <td>Voting in the age of #coronavirus = hand sanit...</td>\n",
              "      <td>0</td>\n",
              "      <td>0</td>\n",
              "      <td>1</td>\n",
              "    </tr>\n",
              "    <tr>\n",
              "      <th>7</th>\n",
              "      <td>@DrTedros \"We canÂt stop #COVID19 without pro...</td>\n",
              "      <td>0</td>\n",
              "      <td>1</td>\n",
              "      <td>0</td>\n",
              "    </tr>\n",
              "    <tr>\n",
              "      <th>8</th>\n",
              "      <td>HI TWITTER! I am a pharmacist. I sell hand san...</td>\n",
              "      <td>1</td>\n",
              "      <td>0</td>\n",
              "      <td>0</td>\n",
              "    </tr>\n",
              "    <tr>\n",
              "      <th>9</th>\n",
              "      <td>Anyone been in a supermarket over the last few...</td>\n",
              "      <td>0</td>\n",
              "      <td>0</td>\n",
              "      <td>1</td>\n",
              "    </tr>\n",
              "  </tbody>\n",
              "</table>\n",
              "</div>"
            ],
            "text/plain": [
              "                                       OriginalTweet  ...  Positive\n",
              "0  TRENDING: New Yorkers encounter empty supermar...  ...         0\n",
              "1  When I couldn't find hand sanitizer at Fred Me...  ...         1\n",
              "2  Find out how you can protect yourself and love...  ...         1\n",
              "3  #Panic buying hits #NewYork City as anxious sh...  ...         0\n",
              "4  #toiletpaper #dunnypaper #coronavirus #coronav...  ...         0\n",
              "5  Do you remember the last time you paid $2.99 a...  ...         0\n",
              "6  Voting in the age of #coronavirus = hand sanit...  ...         1\n",
              "7  @DrTedros \"We canÂt stop #COVID19 without pro...  ...         0\n",
              "8  HI TWITTER! I am a pharmacist. I sell hand san...  ...         0\n",
              "9  Anyone been in a supermarket over the last few...  ...         1\n",
              "\n",
              "[10 rows x 4 columns]"
            ]
          },
          "metadata": {},
          "execution_count": 16
        }
      ]
    },
    {
      "cell_type": "markdown",
      "metadata": {
        "id": "JfxF3wnMrSVP"
      },
      "source": [
        "### Data Split"
      ]
    },
    {
      "cell_type": "code",
      "metadata": {
        "id": "-Vh85XKmBxMT"
      },
      "source": [
        "text0 = data_train3['OriginalTweet'].values\n",
        "labels0 = data_train3.iloc[:, 1:].values"
      ],
      "execution_count": 35,
      "outputs": []
    },
    {
      "cell_type": "code",
      "metadata": {
        "id": "HCcZD9pkBVux"
      },
      "source": [
        "text_latih, text_valid, labels_latih, labels_valid = train_test_split(text0, labels0, test_size = 0.13)"
      ],
      "execution_count": 36,
      "outputs": []
    },
    {
      "cell_type": "code",
      "metadata": {
        "id": "M8Vil4joqn-C"
      },
      "source": [
        "text_valid2 = data_test3['OriginalTweet'].values\n",
        "labels_valid2 = data_test3.iloc[:, 1:].values"
      ],
      "execution_count": 37,
      "outputs": []
    },
    {
      "cell_type": "code",
      "metadata": {
        "id": "b2_M_bz9DSDJ"
      },
      "source": [
        "text_valid = np.concatenate((text_valid, text_valid2), axis = 0)"
      ],
      "execution_count": 38,
      "outputs": []
    },
    {
      "cell_type": "code",
      "metadata": {
        "id": "f1ViRv0FD1LB"
      },
      "source": [
        "labels_valid = np.concatenate((labels_valid, labels_valid2), axis = 0)"
      ],
      "execution_count": 39,
      "outputs": []
    },
    {
      "cell_type": "code",
      "metadata": {
        "colab": {
          "base_uri": "https://localhost:8080/"
        },
        "id": "Ung8QlNOFBMu",
        "outputId": "0b33e79e-47b7-4df8-bd90-725cbd8bb886"
      },
      "source": [
        "text_valid.shape"
      ],
      "execution_count": 40,
      "outputs": [
        {
          "output_type": "execute_result",
          "data": {
            "text/plain": [
              "(9149,)"
            ]
          },
          "metadata": {},
          "execution_count": 40
        }
      ]
    },
    {
      "cell_type": "code",
      "metadata": {
        "colab": {
          "base_uri": "https://localhost:8080/"
        },
        "id": "pPWxbTy6FDei",
        "outputId": "e08ebbdb-f35f-4894-b7c5-54e032563812"
      },
      "source": [
        "text_latih.shape"
      ],
      "execution_count": 41,
      "outputs": [
        {
          "output_type": "execute_result",
          "data": {
            "text/plain": [
              "(35806,)"
            ]
          },
          "metadata": {},
          "execution_count": 41
        }
      ]
    },
    {
      "cell_type": "markdown",
      "metadata": {
        "id": "eIfTOriKsPxg"
      },
      "source": [
        "## Part III: Text Preprocessing"
      ]
    },
    {
      "cell_type": "markdown",
      "metadata": {
        "id": "Y3vC4tpt-jZj"
      },
      "source": [
        "### Text Cleaning"
      ]
    },
    {
      "cell_type": "code",
      "metadata": {
        "colab": {
          "base_uri": "https://localhost:8080/"
        },
        "id": "rc9BNdnzV3A3",
        "outputId": "6a528546-6859-4735-c076-e13aaaa860aa"
      },
      "source": [
        "nltk.download('stopwords')"
      ],
      "execution_count": 42,
      "outputs": [
        {
          "output_type": "stream",
          "name": "stdout",
          "text": [
            "[nltk_data] Downloading package stopwords to /root/nltk_data...\n",
            "[nltk_data]   Package stopwords is already up-to-date!\n"
          ]
        },
        {
          "output_type": "execute_result",
          "data": {
            "text/plain": [
              "True"
            ]
          },
          "metadata": {},
          "execution_count": 42
        }
      ]
    },
    {
      "cell_type": "code",
      "metadata": {
        "id": "59o3HrLV6zMj"
      },
      "source": [
        "def clean_text(teks):\n",
        "  new_teks = []\n",
        "  teks = teks.tolist()\n",
        "  for i in teks:\n",
        "    cleaned = i.lower()\n",
        "\n",
        "    unknown = ['â\\x97', 'â\\x96', 'â\\x92', 'USER', '\\r', '\\n', '\\\\n', '\\\\xf0', \n",
        "               '\\\\x9f', '\\\\x98', '\\\\xaa', 'https://t.co/', '&gt;', '.g']\n",
        "    for j in unknown:\n",
        "      cleaned = cleaned.replace(j, '')\n",
        "    \n",
        "    for k in range(0,10):\n",
        "      cleaned = cleaned.replace('{}'.format(k), '')\n",
        "    \n",
        "    tanda_baca = ['\"','%','&','(',')','*','+',',','-','.',';','<','=','>','[',']',\n",
        "                  '^','_',',','{','|','}','~','`', '//', '/', ':', '!', '?', '#',\n",
        "                  '$', '@']\n",
        "    for l in tanda_baca:\n",
        "      cleaned = cleaned.replace(l, '')\n",
        "    \n",
        "    cleaned = cleaned.strip()\n",
        "    \n",
        "    #stopword_list = stopwords.words('english')\n",
        "    words_in = cleaned.split()\n",
        "    #for m in stopword_list:\n",
        "    # words_in = ['' if x == m else x for x in words_in]\n",
        "    \n",
        "    alphabet = list(string.ascii_lowercase)\n",
        "    for n in alphabet:\n",
        "      words_in = ['' if x == n else x for x in words_in]\n",
        "\n",
        "    separator = ' '\n",
        "    cleaned = separator.join(words_in)\n",
        "\n",
        "    new_teks.append(cleaned)\n",
        "  \n",
        "  new_teks = np.array(new_teks)\n",
        "  return new_teks"
      ],
      "execution_count": 43,
      "outputs": []
    },
    {
      "cell_type": "code",
      "metadata": {
        "id": "tCuAmfIe-men"
      },
      "source": [
        "text_latih = clean_text(text_latih)\n",
        "text_valid = clean_text(text_valid)"
      ],
      "execution_count": 44,
      "outputs": []
    },
    {
      "cell_type": "markdown",
      "metadata": {
        "id": "zfn0WzGmsUMu"
      },
      "source": [
        "### Tokenization"
      ]
    },
    {
      "cell_type": "code",
      "metadata": {
        "id": "gmxxoh1AsTWJ"
      },
      "source": [
        "tokenizer = Tokenizer(num_words = 5000, oov_token='-', filters='\\'')"
      ],
      "execution_count": 45,
      "outputs": []
    },
    {
      "cell_type": "code",
      "metadata": {
        "id": "NMuMfHivuhSk"
      },
      "source": [
        "tokenizer.fit_on_texts(text_latih)\n",
        "tokenizer.fit_on_texts(text_valid)"
      ],
      "execution_count": 46,
      "outputs": []
    },
    {
      "cell_type": "code",
      "metadata": {
        "colab": {
          "base_uri": "https://localhost:8080/"
        },
        "id": "h1CfYtcyPzfd",
        "outputId": "98339c1c-38b0-40e7-dbb6-9e5d27a8a16b"
      },
      "source": [
        "tokens = tokenizer.word_index\n",
        "tokens"
      ],
      "execution_count": 47,
      "outputs": [
        {
          "output_type": "execute_result",
          "data": {
            "text/plain": [
              "{'-': 1,\n",
              " 'the': 2,\n",
              " 'to': 3,\n",
              " 'and': 4,\n",
              " 'of': 5,\n",
              " 'covid': 6,\n",
              " 'in': 7,\n",
              " 'coronavirus': 8,\n",
              " 'for': 9,\n",
              " 'is': 10,\n",
              " 'are': 11,\n",
              " 'you': 12,\n",
              " 'on': 13,\n",
              " 'at': 14,\n",
              " 'this': 15,\n",
              " 'food': 16,\n",
              " 'prices': 17,\n",
              " 'store': 18,\n",
              " 'supermarket': 19,\n",
              " 'with': 20,\n",
              " 'that': 21,\n",
              " 'we': 22,\n",
              " 'it': 23,\n",
              " 'grocery': 24,\n",
              " 'have': 25,\n",
              " 'as': 26,\n",
              " 'be': 27,\n",
              " 'people': 28,\n",
              " 'from': 29,\n",
              " 'amp': 30,\n",
              " 'all': 31,\n",
              " 'your': 32,\n",
              " 'not': 33,\n",
              " 'will': 34,\n",
              " 'my': 35,\n",
              " 'consumer': 36,\n",
              " 'can': 37,\n",
              " 'they': 38,\n",
              " 'up': 39,\n",
              " 'our': 40,\n",
              " 'or': 41,\n",
              " 'out': 42,\n",
              " 'has': 43,\n",
              " 'shopping': 44,\n",
              " 'by': 45,\n",
              " 'more': 46,\n",
              " 'if': 47,\n",
              " 's': 48,\n",
              " 'online': 49,\n",
              " 'but': 50,\n",
              " 'how': 51,\n",
              " 'their': 52,\n",
              " 'so': 53,\n",
              " 'during': 54,\n",
              " 'no': 55,\n",
              " 'now': 56,\n",
              " 'about': 57,\n",
              " 'get': 58,\n",
              " 'pandemic': 59,\n",
              " 'what': 60,\n",
              " 'who': 61,\n",
              " 'need': 62,\n",
              " 'just': 63,\n",
              " 'panic': 64,\n",
              " 'us': 65,\n",
              " 't': 66,\n",
              " 'stock': 67,\n",
              " 'like': 68,\n",
              " 'do': 69,\n",
              " 'was': 70,\n",
              " 'workers': 71,\n",
              " 'an': 72,\n",
              " 'there': 73,\n",
              " 'go': 74,\n",
              " 'when': 75,\n",
              " 'time': 76,\n",
              " 'some': 77,\n",
              " 'home': 78,\n",
              " 'demand': 79,\n",
              " 'sanitizer': 80,\n",
              " 'help': 81,\n",
              " 'going': 82,\n",
              " 'hand': 83,\n",
              " 'me': 84,\n",
              " 'its': 85,\n",
              " 'one': 86,\n",
              " 'due': 87,\n",
              " 'been': 88,\n",
              " 'buying': 89,\n",
              " 'here': 90,\n",
              " 'toilet': 91,\n",
              " 'new': 92,\n",
              " 'please': 93,\n",
              " 'work': 94,\n",
              " 'oil': 95,\n",
              " 'because': 96,\n",
              " 'paper': 97,\n",
              " 'other': 98,\n",
              " 'them': 99,\n",
              " 'retail': 100,\n",
              " 'local': 101,\n",
              " 'crisis': 102,\n",
              " 'after': 103,\n",
              " 'only': 104,\n",
              " 'than': 105,\n",
              " 'these': 106,\n",
              " 'should': 107,\n",
              " 'over': 108,\n",
              " 'toiletpaper': 109,\n",
              " 'today': 110,\n",
              " 'buy': 111,\n",
              " 'stores': 112,\n",
              " 'shelves': 113,\n",
              " 'stay': 114,\n",
              " 'keep': 115,\n",
              " 'many': 116,\n",
              " 'still': 117,\n",
              " 'don': 118,\n",
              " 'being': 119,\n",
              " 're': 120,\n",
              " 'make': 121,\n",
              " 'see': 122,\n",
              " 'those': 123,\n",
              " 'via': 124,\n",
              " 'delivery': 125,\n",
              " 'down': 126,\n",
              " 'know': 127,\n",
              " 'were': 128,\n",
              " 'take': 129,\n",
              " 'day': 130,\n",
              " 'would': 131,\n",
              " 'i': 132,\n",
              " 'why': 133,\n",
              " 'into': 134,\n",
              " 'everyone': 135,\n",
              " 'virus': 136,\n",
              " 'any': 137,\n",
              " 'lockdown': 138,\n",
              " 'supply': 139,\n",
              " 'even': 140,\n",
              " 'stop': 141,\n",
              " 'health': 142,\n",
              " 'had': 143,\n",
              " 'could': 144,\n",
              " 'staff': 145,\n",
              " 'while': 146,\n",
              " 'also': 147,\n",
              " 'outbreak': 148,\n",
              " 'social': 149,\n",
              " 'working': 150,\n",
              " 'think': 151,\n",
              " 'price': 152,\n",
              " 'masks': 153,\n",
              " 'business': 154,\n",
              " 'good': 155,\n",
              " 'market': 156,\n",
              " 'week': 157,\n",
              " 'spread': 158,\n",
              " 'most': 159,\n",
              " 'world': 160,\n",
              " 'amid': 161,\n",
              " 'shop': 162,\n",
              " 'use': 163,\n",
              " 'am': 164,\n",
              " 'dont': 165,\n",
              " 'customers': 166,\n",
              " 'way': 167,\n",
              " 'essential': 168,\n",
              " 'safe': 169,\n",
              " 'every': 170,\n",
              " 'right': 171,\n",
              " 'may': 172,\n",
              " 'employees': 173,\n",
              " 'he': 174,\n",
              " 'supplies': 175,\n",
              " 'much': 176,\n",
              " 'items': 177,\n",
              " 'doing': 178,\n",
              " 'products': 179,\n",
              " 'government': 180,\n",
              " 'which': 181,\n",
              " 'back': 182,\n",
              " 'impact': 183,\n",
              " 'off': 184,\n",
              " 'before': 185,\n",
              " 'thank': 186,\n",
              " 'socialdistancing': 187,\n",
              " 'first': 188,\n",
              " 'last': 189,\n",
              " 'news': 190,\n",
              " 'times': 191,\n",
              " 'where': 192,\n",
              " 'im': 193,\n",
              " 'corona': 194,\n",
              " 'want': 195,\n",
              " 'free': 196,\n",
              " 'support': 197,\n",
              " 'got': 198,\n",
              " 'well': 199,\n",
              " 'days': 200,\n",
              " 've': 201,\n",
              " 'around': 202,\n",
              " 'weeks': 203,\n",
              " 'm': 204,\n",
              " 'empty': 205,\n",
              " 'supermarkets': 206,\n",
              " 'went': 207,\n",
              " 'find': 208,\n",
              " 'mask': 209,\n",
              " 'through': 210,\n",
              " 'then': 211,\n",
              " 'global': 212,\n",
              " 'quarantine': 213,\n",
              " 'face': 214,\n",
              " 'said': 215,\n",
              " 'really': 216,\n",
              " 'getting': 217,\n",
              " 'high': 218,\n",
              " 'public': 219,\n",
              " 'low': 220,\n",
              " 'gas': 221,\n",
              " 'money': 222,\n",
              " 'too': 223,\n",
              " 'very': 224,\n",
              " 'uk': 225,\n",
              " 'open': 226,\n",
              " 'since': 227,\n",
              " 'companies': 228,\n",
              " 'says': 229,\n",
              " 'economy': 230,\n",
              " 'businesses': 231,\n",
              " 'things': 232,\n",
              " 'risk': 233,\n",
              " 'next': 234,\n",
              " 'consumers': 235,\n",
              " 'distancing': 236,\n",
              " 'care': 237,\n",
              " 'read': 238,\n",
              " 'coronacrisis': 239,\n",
              " 'say': 240,\n",
              " 'enough': 241,\n",
              " 'long': 242,\n",
              " 'country': 243,\n",
              " 'great': 244,\n",
              " 'two': 245,\n",
              " 'making': 246,\n",
              " 'order': 247,\n",
              " 'line': 248,\n",
              " 'she': 249,\n",
              " 'his': 250,\n",
              " 'look': 251,\n",
              " 'let': 252,\n",
              " 'her': 253,\n",
              " 'available': 254,\n",
              " 'hours': 255,\n",
              " 'hands': 256,\n",
              " 'others': 257,\n",
              " 'pay': 258,\n",
              " 'taking': 259,\n",
              " 'march': 260,\n",
              " 'full': 261,\n",
              " 'services': 262,\n",
              " 'anyone': 263,\n",
              " 'family': 264,\n",
              " 'few': 265,\n",
              " 'come': 266,\n",
              " 'check': 267,\n",
              " 'shops': 268,\n",
              " 'against': 269,\n",
              " 'service': 270,\n",
              " 'coronaviruspandemic': 271,\n",
              " 'put': 272,\n",
              " 'across': 273,\n",
              " 'cant': 274,\n",
              " 'everything': 275,\n",
              " 'amazon': 276,\n",
              " 'needs': 277,\n",
              " 'gloves': 278,\n",
              " 'response': 279,\n",
              " 'must': 280,\n",
              " 'medical': 281,\n",
              " 'chain': 282,\n",
              " 'increase': 283,\n",
              " 'china': 284,\n",
              " 'groceries': 285,\n",
              " 'hoarding': 286,\n",
              " 'goods': 287,\n",
              " 'without': 288,\n",
              " 'trump': 289,\n",
              " 'trying': 290,\n",
              " 'industry': 291,\n",
              " 'life': 292,\n",
              " 'same': 293,\n",
              " 'house': 294,\n",
              " 'never': 295,\n",
              " 'markets': 296,\n",
              " 'big': 297,\n",
              " 'sure': 298,\n",
              " 'closed': 299,\n",
              " 'protect': 300,\n",
              " 'already': 301,\n",
              " 'thing': 302,\n",
              " 'fight': 303,\n",
              " 'elderly': 304,\n",
              " 'best': 305,\n",
              " 'panicbuying': 306,\n",
              " 'close': 307,\n",
              " 'emergency': 308,\n",
              " 'etc': 309,\n",
              " 'made': 310,\n",
              " 'report': 311,\n",
              " 'state': 312,\n",
              " 'seen': 313,\n",
              " 'water': 314,\n",
              " 'economic': 315,\n",
              " 'increased': 316,\n",
              " 'someone': 317,\n",
              " 'vulnerable': 318,\n",
              " 'each': 319,\n",
              " 'live': 320,\n",
              " 'community': 321,\n",
              " 'did': 322,\n",
              " 'give': 323,\n",
              " 'having': 324,\n",
              " 'small': 325,\n",
              " 'call': 326,\n",
              " 'lot': 327,\n",
              " 'year': 328,\n",
              " 'banks': 329,\n",
              " 'per': 330,\n",
              " 'situation': 331,\n",
              " 'such': 332,\n",
              " 'thanks': 333,\n",
              " 'sales': 334,\n",
              " 'place': 335,\n",
              " 'shoppers': 336,\n",
              " 'does': 337,\n",
              " 'better': 338,\n",
              " 'continue': 339,\n",
              " 'drivers': 340,\n",
              " 'll': 341,\n",
              " 'coronavirusoutbreak': 342,\n",
              " 'able': 343,\n",
              " 'hard': 344,\n",
              " 'left': 345,\n",
              " 'bank': 346,\n",
              " 'scams': 347,\n",
              " 'healthcare': 348,\n",
              " 'cases': 349,\n",
              " 'using': 350,\n",
              " 'avoid': 351,\n",
              " 'job': 352,\n",
              " 'hope': 353,\n",
              " 'real': 354,\n",
              " 'coming': 355,\n",
              " 'looking': 356,\n",
              " 'important': 357,\n",
              " 'another': 358,\n",
              " 'leave': 359,\n",
              " 'latest': 360,\n",
              " 'retailers': 361,\n",
              " 'away': 362,\n",
              " 'share': 363,\n",
              " 'morning': 364,\n",
              " 'selling': 365,\n",
              " 'behavior': 366,\n",
              " 'stayhome': 367,\n",
              " 'hit': 368,\n",
              " 'person': 369,\n",
              " 'data': 370,\n",
              " 'together': 371,\n",
              " 'until': 372,\n",
              " 'under': 373,\n",
              " 'part': 374,\n",
              " 'sick': 375,\n",
              " 'protection': 376,\n",
              " 'own': 377,\n",
              " 'post': 378,\n",
              " 'end': 379,\n",
              " 'run': 380,\n",
              " 'daily': 381,\n",
              " 'drop': 382,\n",
              " 'else': 383,\n",
              " 'information': 384,\n",
              " 'might': 385,\n",
              " 'normal': 386,\n",
              " 'list': 387,\n",
              " 'less': 388,\n",
              " 'change': 389,\n",
              " 'current': 390,\n",
              " 'front': 391,\n",
              " 'least': 392,\n",
              " 'tesco': 393,\n",
              " 'ever': 394,\n",
              " 'start': 395,\n",
              " 'production': 396,\n",
              " 'outside': 397,\n",
              " 'spending': 398,\n",
              " 'thought': 399,\n",
              " 'months': 400,\n",
              " 'remember': 401,\n",
              " 'learn': 402,\n",
              " 'company': 403,\n",
              " 'essentials': 404,\n",
              " 'positive': 405,\n",
              " 'safety': 406,\n",
              " 'feel': 407,\n",
              " 'little': 408,\n",
              " 'wash': 409,\n",
              " 'told': 410,\n",
              " 'measures': 411,\n",
              " 'done': 412,\n",
              " 'financial': 413,\n",
              " 'self': 414,\n",
              " 'seeing': 415,\n",
              " 'pm': 416,\n",
              " 'something': 417,\n",
              " 'key': 418,\n",
              " 'nhs': 419,\n",
              " 'stayathome': 420,\n",
              " 'nothing': 421,\n",
              " 'again': 422,\n",
              " 'milk': 423,\n",
              " 'shortage': 424,\n",
              " 'roll': 425,\n",
              " 'jobs': 426,\n",
              " 'yet': 427,\n",
              " 'soap': 428,\n",
              " 'contact': 429,\n",
              " 'tips': 430,\n",
              " 'man': 431,\n",
              " 'travel': 432,\n",
              " 'month': 433,\n",
              " 'years': 434,\n",
              " 'cut': 435,\n",
              " 'running': 436,\n",
              " 'meet': 437,\n",
              " 'restaurants': 438,\n",
              " 'including': 439,\n",
              " 'helping': 440,\n",
              " 'police': 441,\n",
              " 'wearing': 442,\n",
              " 'families': 443,\n",
              " 'video': 444,\n",
              " 'access': 445,\n",
              " 'tp': 446,\n",
              " 'fall': 447,\n",
              " 'lives': 448,\n",
              " 'media': 449,\n",
              " 'coronavirusupdate': 450,\n",
              " 'bought': 451,\n",
              " 'americans': 452,\n",
              " 'lines': 453,\n",
              " 'chains': 454,\n",
              " 'keeping': 455,\n",
              " 'try': 456,\n",
              " 'april': 457,\n",
              " 'update': 458,\n",
              " 'coviduk': 459,\n",
              " 'india': 460,\n",
              " 'bad': 461,\n",
              " 'possible': 462,\n",
              " 'old': 463,\n",
              " 'worker': 464,\n",
              " 'lower': 465,\n",
              " 'instead': 466,\n",
              " 'rise': 467,\n",
              " 'wear': 468,\n",
              " 'sanitizers': 469,\n",
              " 'reports': 470,\n",
              " 'stayhomesavelives': 471,\n",
              " 'likely': 472,\n",
              " 'testing': 473,\n",
              " 'walmart': 474,\n",
              " 'found': 475,\n",
              " 'farmers': 476,\n",
              " 'provide': 477,\n",
              " 'higher': 478,\n",
              " 'city': 479,\n",
              " 'prevent': 480,\n",
              " 'used': 481,\n",
              " 'anything': 482,\n",
              " 'paid': 483,\n",
              " 'major': 484,\n",
              " 'ecommerce': 485,\n",
              " 'always': 486,\n",
              " 'number': 487,\n",
              " 'distance': 488,\n",
              " 'needed': 489,\n",
              " 'advice': 490,\n",
              " 'shortages': 491,\n",
              " 'stocked': 492,\n",
              " 'yesterday': 493,\n",
              " 'set': 494,\n",
              " 'yourself': 495,\n",
              " 'related': 496,\n",
              " 'doctors': 497,\n",
              " 'gone': 498,\n",
              " 'youre': 499,\n",
              " 'offering': 500,\n",
              " 'love': 501,\n",
              " 'almost': 502,\n",
              " 'putting': 503,\n",
              " 'watch': 504,\n",
              " 'soon': 505,\n",
              " 'extra': 506,\n",
              " 'pharmacy': 507,\n",
              " 'especially': 508,\n",
              " 'between': 509,\n",
              " 'saw': 510,\n",
              " 'visit': 511,\n",
              " 'isolation': 512,\n",
              " 'changes': 513,\n",
              " 'alcohol': 514,\n",
              " 'advantage': 515,\n",
              " 'relief': 516,\n",
              " 'friends': 517,\n",
              " 'healthy': 518,\n",
              " 'fear': 519,\n",
              " 'far': 520,\n",
              " 'once': 521,\n",
              " 'hour': 522,\n",
              " 'nurses': 523,\n",
              " 'hospital': 524,\n",
              " 'case': 525,\n",
              " 'won': 526,\n",
              " 'affected': 527,\n",
              " 'selfish': 528,\n",
              " 'understand': 529,\n",
              " 'orders': 530,\n",
              " 'whole': 531,\n",
              " 'govt': 532,\n",
              " 'produce': 533,\n",
              " 'ensure': 534,\n",
              " 'eat': 535,\n",
              " 'kids': 536,\n",
              " 'stuff': 537,\n",
              " 'meat': 538,\n",
              " 'staying': 539,\n",
              " 'sell': 540,\n",
              " 'actually': 541,\n",
              " 'follow': 542,\n",
              " 'brands': 543,\n",
              " 'drive': 544,\n",
              " 'remain': 545,\n",
              " 'realdonaldtrump': 546,\n",
              " 'states': 547,\n",
              " 'means': 548,\n",
              " 'ive': 549,\n",
              " 'system': 550,\n",
              " 'deal': 551,\n",
              " 'website': 552,\n",
              " 'special': 553,\n",
              " 'tested': 554,\n",
              " 'stophoarding': 555,\n",
              " 'tell': 556,\n",
              " 'th': 557,\n",
              " 'maybe': 558,\n",
              " 'kind': 559,\n",
              " 'top': 560,\n",
              " 'control': 561,\n",
              " 'customer': 562,\n",
              " 'cleaning': 563,\n",
              " 'area': 564,\n",
              " 'crazy': 565,\n",
              " 'bread': 566,\n",
              " 'test': 567,\n",
              " 'car': 568,\n",
              " 'sold': 569,\n",
              " 'ask': 570,\n",
              " 'save': 571,\n",
              " 'wait': 572,\n",
              " 'result': 573,\n",
              " 'show': 574,\n",
              " 'fresh': 575,\n",
              " 'reduce': 576,\n",
              " 'shut': 577,\n",
              " 'die': 578,\n",
              " 'million': 579,\n",
              " 'cannot': 580,\n",
              " 'stoppanicbuying': 581,\n",
              " 'announced': 582,\n",
              " 'despite': 583,\n",
              " 'gouging': 584,\n",
              " 'credit': 585,\n",
              " 'following': 586,\n",
              " 'ppl': 587,\n",
              " 'pasta': 588,\n",
              " 'waiting': 589,\n",
              " 'point': 590,\n",
              " 'caused': 591,\n",
              " 'surge': 592,\n",
              " 'italy': 593,\n",
              " 'saying': 594,\n",
              " 'early': 595,\n",
              " 'struggling': 596,\n",
              " 'limit': 597,\n",
              " 'rolls': 598,\n",
              " 'huge': 599,\n",
              " 'consider': 600,\n",
              " 'canada': 601,\n",
              " 'story': 602,\n",
              " 'trip': 603,\n",
              " 'countries': 604,\n",
              " 'personal': 605,\n",
              " 'article': 606,\n",
              " 'basic': 607,\n",
              " 'shit': 608,\n",
              " 'sainsburys': 609,\n",
              " 'works': 610,\n",
              " 'clean': 611,\n",
              " 'asked': 612,\n",
              " 'stocks': 613,\n",
              " 'given': 614,\n",
              " 'donate': 615,\n",
              " 'info': 616,\n",
              " 'closing': 617,\n",
              " 'security': 618,\n",
              " 'cash': 619,\n",
              " 'heroes': 620,\n",
              " 'product': 621,\n",
              " 'war': 622,\n",
              " 'idea': 623,\n",
              " 'ago': 624,\n",
              " 'based': 625,\n",
              " 'woman': 626,\n",
              " 'become': 627,\n",
              " 'russia': 628,\n",
              " 'cost': 629,\n",
              " 'national': 630,\n",
              " 'moment': 631,\n",
              " 'restaurant': 632,\n",
              " 'difficult': 633,\n",
              " 'staysafe': 634,\n",
              " 'join': 635,\n",
              " 'america': 636,\n",
              " 'cause': 637,\n",
              " 'mean': 638,\n",
              " 'purchase': 639,\n",
              " 'currently': 640,\n",
              " 'taken': 641,\n",
              " 'gonna': 642,\n",
              " 'employee': 643,\n",
              " 'worried': 644,\n",
              " 'bring': 645,\n",
              " 'school': 646,\n",
              " 'critical': 647,\n",
              " 'stockpiling': 648,\n",
              " 'large': 649,\n",
              " 'queue': 650,\n",
              " 'below': 651,\n",
              " 'different': 652,\n",
              " 'increasing': 653,\n",
              " 'seriously': 654,\n",
              " 'both': 655,\n",
              " 'eggs': 656,\n",
              " 'lost': 657,\n",
              " 'marketing': 658,\n",
              " 'drug': 659,\n",
              " 'folks': 660,\n",
              " 'ways': 661,\n",
              " 'facing': 662,\n",
              " 'themselves': 663,\n",
              " 'inside': 664,\n",
              " 'changing': 665,\n",
              " 'started': 666,\n",
              " 'three': 667,\n",
              " 'tomorrow': 668,\n",
              " 'period': 669,\n",
              " 'president': 670,\n",
              " 'survive': 671,\n",
              " 'starting': 672,\n",
              " 'fuel': 673,\n",
              " 'him': 674,\n",
              " 'afford': 675,\n",
              " 'yes': 676,\n",
              " 'quarantinelife': 677,\n",
              " 'spreading': 678,\n",
              " 'allowed': 679,\n",
              " 'offer': 680,\n",
              " 'further': 681,\n",
              " 'hey': 682,\n",
              " 'shows': 683,\n",
              " 'scammers': 684,\n",
              " 'giving': 685,\n",
              " 'shift': 686,\n",
              " 'handsanitizer': 687,\n",
              " 'makes': 688,\n",
              " 'fears': 689,\n",
              " 'goes': 690,\n",
              " 'group': 691,\n",
              " 'energy': 692,\n",
              " 'behaviour': 693,\n",
              " 'guys': 694,\n",
              " 'plenty': 695,\n",
              " 'research': 696,\n",
              " 'trends': 697,\n",
              " 'plan': 698,\n",
              " 'issues': 699,\n",
              " 'pick': 700,\n",
              " 'wipes': 701,\n",
              " 'probably': 702,\n",
              " 'sector': 703,\n",
              " 'gold': 704,\n",
              " 'fast': 705,\n",
              " 'ones': 706,\n",
              " 'ready': 707,\n",
              " 'recent': 708,\n",
              " 'bit': 709,\n",
              " 'deliveries': 710,\n",
              " 'doesn': 711,\n",
              " 'isn': 712,\n",
              " 'american': 713,\n",
              " 'closures': 714,\n",
              " 'concerns': 715,\n",
              " 'trade': 716,\n",
              " 'providing': 717,\n",
              " 'theres': 718,\n",
              " 'wrong': 719,\n",
              " 'recession': 720,\n",
              " 'nation': 721,\n",
              " 'sign': 722,\n",
              " 'restrictions': 723,\n",
              " 'act': 724,\n",
              " 'experts': 725,\n",
              " 'asking': 726,\n",
              " 'confidence': 727,\n",
              " 'changed': 728,\n",
              " 'fucking': 729,\n",
              " 'future': 730,\n",
              " 'reduced': 731,\n",
              " 'asda': 732,\n",
              " 'worse': 733,\n",
              " 'deliver': 734,\n",
              " 'st': 735,\n",
              " 'lots': 736,\n",
              " 'team': 737,\n",
              " 'thinking': 738,\n",
              " 'past': 739,\n",
              " 'living': 740,\n",
              " 'office': 741,\n",
              " 'continues': 742,\n",
              " 'falling': 743,\n",
              " 'rice': 744,\n",
              " 'chinese': 745,\n",
              " 'didn': 746,\n",
              " 'expect': 747,\n",
              " 'strong': 748,\n",
              " 'limited': 749,\n",
              " 'night': 750,\n",
              " 'places': 751,\n",
              " 'usa': 752,\n",
              " 'foods': 753,\n",
              " 'problem': 754,\n",
              " 'household': 755,\n",
              " 'looks': 756,\n",
              " 'longer': 757,\n",
              " 'email': 758,\n",
              " 'rs': 759,\n",
              " 'resources': 760,\n",
              " 'crude': 761,\n",
              " 'near': 762,\n",
              " 'action': 763,\n",
              " 'came': 764,\n",
              " 'behind': 765,\n",
              " 'fighting': 766,\n",
              " 'ppe': 767,\n",
              " 'raise': 768,\n",
              " 'according': 769,\n",
              " 'thats': 770,\n",
              " 'london': 771,\n",
              " 'short': 772,\n",
              " 'though': 773,\n",
              " 'â£': 774,\n",
              " 'coronaoutbreak': 775,\n",
              " 'friend': 776,\n",
              " 'seems': 777,\n",
              " 'believe': 778,\n",
              " 'hear': 779,\n",
              " 'digital': 780,\n",
              " 'general': 781,\n",
              " 'walk': 782,\n",
              " 'necessary': 783,\n",
              " 'lets': 784,\n",
              " 'insurance': 785,\n",
              " 'worth': 786,\n",
              " 'link': 787,\n",
              " 'ceo': 788,\n",
              " 'buyers': 789,\n",
              " 'nice': 790,\n",
              " 'frontline': 791,\n",
              " 'poor': 792,\n",
              " 'insights': 793,\n",
              " 'single': 794,\n",
              " 'borisjohnson': 795,\n",
              " 'citizens': 796,\n",
              " 'fuck': 797,\n",
              " 'happy': 798,\n",
              " 'delivered': 799,\n",
              " 'expected': 800,\n",
              " 'sale': 801,\n",
              " 'called': 802,\n",
              " 'australia': 803,\n",
              " 'half': 804,\n",
              " 'law': 805,\n",
              " 'alert': 806,\n",
              " 'kill': 807,\n",
              " 'god': 808,\n",
              " 'forget': 809,\n",
              " 'questions': 810,\n",
              " 'gets': 811,\n",
              " 'died': 812,\n",
              " 'members': 813,\n",
              " 'comes': 814,\n",
              " 'allow': 815,\n",
              " 'pack': 816,\n",
              " 'hoard': 817,\n",
              " 'send': 818,\n",
              " 'federal': 819,\n",
              " 'experience': 820,\n",
              " 'light': 821,\n",
              " 'forced': 822,\n",
              " 'door': 823,\n",
              " 'tests': 824,\n",
              " 'monday': 825,\n",
              " 'wont': 826,\n",
              " 'parents': 827,\n",
              " 'reason': 828,\n",
              " 'hygiene': 829,\n",
              " 'equipment': 830,\n",
              " 'hospitals': 831,\n",
              " 'disease': 832,\n",
              " 'theyre': 833,\n",
              " 'temporarily': 834,\n",
              " 'gov': 835,\n",
              " 'message': 836,\n",
              " 'ok': 837,\n",
              " 'side': 838,\n",
              " 'usual': 839,\n",
              " 'd': 840,\n",
              " 'effect': 841,\n",
              " 'ill': 842,\n",
              " 'human': 843,\n",
              " 'california': 844,\n",
              " 'took': 845,\n",
              " 'serious': 846,\n",
              " 'income': 847,\n",
              " 'plans': 848,\n",
              " 'phone': 849,\n",
              " 'amount': 850,\n",
              " 'updates': 851,\n",
              " 'seniors': 852,\n",
              " 'aren': 853,\n",
              " 'coronavirusuk': 854,\n",
              " 'rising': 855,\n",
              " 'issue': 856,\n",
              " 'bc': 857,\n",
              " 'calm': 858,\n",
              " 'efforts': 859,\n",
              " 'effects': 860,\n",
              " 'isnt': 861,\n",
              " 'couple': 862,\n",
              " 'potential': 863,\n",
              " 'clear': 864,\n",
              " 'rather': 865,\n",
              " 'county': 866,\n",
              " 'bottle': 867,\n",
              " 'infected': 868,\n",
              " 'question': 869,\n",
              " 'coughing': 870,\n",
              " 'anxiety': 871,\n",
              " 'habits': 872,\n",
              " 'stocking': 873,\n",
              " 'inflated': 874,\n",
              " 'schools': 875,\n",
              " 'slots': 876,\n",
              " 'rules': 877,\n",
              " 'toiletpapercrisis': 878,\n",
              " 'talk': 879,\n",
              " 'pretty': 880,\n",
              " 'truck': 881,\n",
              " 'finally': 882,\n",
              " 'listen': 883,\n",
              " 'however': 884,\n",
              " 'beginning': 885,\n",
              " 'blog': 886,\n",
              " 'happen': 887,\n",
              " 'interesting': 888,\n",
              " 'several': 889,\n",
              " 'move': 890,\n",
              " 'residents': 891,\n",
              " 'society': 892,\n",
              " 'opening': 893,\n",
              " 'symptoms': 894,\n",
              " 'saudi': 895,\n",
              " 'donations': 896,\n",
              " 'survey': 897,\n",
              " 'south': 898,\n",
              " 'communities': 899,\n",
              " 'massive': 900,\n",
              " 'calls': 901,\n",
              " 'coronapocalypse': 902,\n",
              " 'collapse': 903,\n",
              " 'toiletpaperpanic': 904,\n",
              " 'morrisons': 905,\n",
              " 'biggest': 906,\n",
              " 'driving': 907,\n",
              " 'touch': 908,\n",
              " 'unprecedented': 909,\n",
              " 'unemployment': 910,\n",
              " 'distribution': 911,\n",
              " 'debt': 912,\n",
              " 'children': 913,\n",
              " 'bill': 914,\n",
              " 'spend': 915,\n",
              " 'hiking': 916,\n",
              " 'apart': 917,\n",
              " 'feed': 918,\n",
              " 'wake': 919,\n",
              " 'easter': 920,\n",
              " 'nurse': 921,\n",
              " 'growing': 922,\n",
              " 'cheap': 923,\n",
              " 'bags': 924,\n",
              " 'easy': 925,\n",
              " 'dear': 926,\n",
              " 'tonight': 927,\n",
              " 'street': 928,\n",
              " 'guess': 929,\n",
              " 'homes': 930,\n",
              " 'meals': 931,\n",
              " 'myself': 932,\n",
              " 'regarding': 933,\n",
              " 'death': 934,\n",
              " 'mass': 935,\n",
              " 'responders': 936,\n",
              " 'cure': 937,\n",
              " 'ftc': 938,\n",
              " 'rate': 939,\n",
              " 'washing': 940,\n",
              " 'details': 941,\n",
              " 'policy': 942,\n",
              " 'donating': 943,\n",
              " 'doesnt': 944,\n",
              " 'breaking': 945,\n",
              " 'hoarders': 946,\n",
              " 'aisle': 947,\n",
              " 'shelf': 948,\n",
              " 'direct': 949,\n",
              " 'baby': 950,\n",
              " 'amazing': 951,\n",
              " 'among': 952,\n",
              " 'eating': 953,\n",
              " 'sentiment': 954,\n",
              " 'calling': 955,\n",
              " 'talking': 956,\n",
              " 'force': 957,\n",
              " 'wanted': 958,\n",
              " 'shame': 959,\n",
              " 'regular': 960,\n",
              " 'card': 961,\n",
              " 'true': 962,\n",
              " 'department': 963,\n",
              " 'showing': 964,\n",
              " 'impacted': 965,\n",
              " 'weekly': 966,\n",
              " 'older': 967,\n",
              " 'thousands': 968,\n",
              " 'worry': 969,\n",
              " 'mind': 970,\n",
              " 'step': 971,\n",
              " 'fact': 972,\n",
              " 'rest': 973,\n",
              " 'rent': 974,\n",
              " 'ridiculous': 975,\n",
              " 'ahead': 976,\n",
              " 'hi': 977,\n",
              " 'growth': 978,\n",
              " 'fake': 979,\n",
              " 'imagine': 980,\n",
              " 'bare': 981,\n",
              " 'wine': 982,\n",
              " 'giant': 983,\n",
              " 'takes': 984,\n",
              " 'housing': 985,\n",
              " 'telling': 986,\n",
              " 'prepare': 987,\n",
              " 'yall': 988,\n",
              " 'level': 989,\n",
              " 'record': 990,\n",
              " 'stand': 991,\n",
              " 'sense': 992,\n",
              " 'webinar': 993,\n",
              " 'worst': 994,\n",
              " 'non': 995,\n",
              " 'hold': 996,\n",
              " 'commodities': 997,\n",
              " 'impacts': 998,\n",
              " 'quickly': 999,\n",
              " 'profit': 1000,\n",
              " ...}"
            ]
          },
          "metadata": {},
          "execution_count": 47
        }
      ]
    },
    {
      "cell_type": "code",
      "metadata": {
        "id": "bMlME1PYu52L"
      },
      "source": [
        "sekuens_latih = tokenizer.texts_to_sequences(text_latih)\n",
        "sekuens_valid = tokenizer.texts_to_sequences(text_valid)"
      ],
      "execution_count": 48,
      "outputs": []
    },
    {
      "cell_type": "markdown",
      "metadata": {
        "id": "U3JnUwOXvak9"
      },
      "source": [
        "### Sequences Padding"
      ]
    },
    {
      "cell_type": "code",
      "metadata": {
        "id": "yx4AcV4OvG5O"
      },
      "source": [
        "padded_sekuens_latih = pad_sequences(sekuens_latih)\n",
        "padded_sekuens_valid = pad_sequences(sekuens_valid)"
      ],
      "execution_count": 49,
      "outputs": []
    },
    {
      "cell_type": "markdown",
      "metadata": {
        "id": "oR96k8bovgJ2"
      },
      "source": [
        "## Part IV: Model Creation"
      ]
    },
    {
      "cell_type": "markdown",
      "metadata": {
        "id": "Lycgv7hpvp0A"
      },
      "source": [
        "### Function Definition"
      ]
    },
    {
      "cell_type": "code",
      "metadata": {
        "id": "iMC2cBmxvnKc"
      },
      "source": [
        "def initialize_model(name, optimizer):\n",
        "  model = Sequential(name = name)\n",
        "\n",
        "  model.add(Embedding(\n",
        "      input_dim=5000, \n",
        "      output_dim=32\n",
        "      )\n",
        "  )\n",
        "  model.add(LSTM(\n",
        "      units = 256,\n",
        "      dropout = 0.5,\n",
        "      )\n",
        "  )\n",
        "  model.add(Dense(\n",
        "      units = 512,\n",
        "      activation = 'relu',\n",
        "      kernel_initializer = 'he_uniform'\n",
        "      )\n",
        "  )\n",
        "  model.add(Dropout(\n",
        "      rate = 0.5\n",
        "      )\n",
        "  )\n",
        "  model.add(Dense(\n",
        "      units = 256,\n",
        "      activation = 'relu',\n",
        "      kernel_initializer = 'he_uniform'\n",
        "      )\n",
        "  )\n",
        "  model.add(Dropout(\n",
        "      rate = 0.5\n",
        "      )\n",
        "  )\n",
        "  model.add(Dense(\n",
        "      units = 128,\n",
        "      activation = 'relu',\n",
        "      kernel_initializer = 'he_uniform'\n",
        "      )\n",
        "  )\n",
        "  model.add(Dropout(\n",
        "      rate = 0.5\n",
        "      )\n",
        "  )\n",
        "  model.add(Dense(\n",
        "      units = 3,\n",
        "      activation = 'softmax',\n",
        "      )\n",
        "  )\n",
        "\n",
        "  model.compile(loss = 'categorical_crossentropy', optimizer = optimizer, metrics = ['accuracy'])\n",
        "\n",
        "  return model"
      ],
      "execution_count": 50,
      "outputs": []
    },
    {
      "cell_type": "markdown",
      "metadata": {
        "id": "xOo4YOrH1o-F"
      },
      "source": [
        "### Model Initialization"
      ]
    },
    {
      "cell_type": "code",
      "metadata": {
        "id": "Sr7PrZ_B1sUv"
      },
      "source": [
        "Processor1 = initialize_model('Processor1', 'nadam')"
      ],
      "execution_count": 51,
      "outputs": []
    },
    {
      "cell_type": "markdown",
      "metadata": {
        "id": "K_5gd4py3tis"
      },
      "source": [
        "### Model Summary"
      ]
    },
    {
      "cell_type": "code",
      "metadata": {
        "colab": {
          "base_uri": "https://localhost:8080/"
        },
        "id": "W9V7ABPE3xbh",
        "outputId": "26dde276-8f0d-463c-b0e7-36e64284b665"
      },
      "source": [
        "Processor1.summary()"
      ],
      "execution_count": 52,
      "outputs": [
        {
          "output_type": "stream",
          "name": "stdout",
          "text": [
            "Model: \"Processor1\"\n",
            "_________________________________________________________________\n",
            "Layer (type)                 Output Shape              Param #   \n",
            "=================================================================\n",
            "embedding_1 (Embedding)      (None, None, 32)          160000    \n",
            "_________________________________________________________________\n",
            "lstm_1 (LSTM)                (None, 256)               295936    \n",
            "_________________________________________________________________\n",
            "dense (Dense)                (None, 512)               131584    \n",
            "_________________________________________________________________\n",
            "dropout (Dropout)            (None, 512)               0         \n",
            "_________________________________________________________________\n",
            "dense_1 (Dense)              (None, 256)               131328    \n",
            "_________________________________________________________________\n",
            "dropout_1 (Dropout)          (None, 256)               0         \n",
            "_________________________________________________________________\n",
            "dense_2 (Dense)              (None, 128)               32896     \n",
            "_________________________________________________________________\n",
            "dropout_2 (Dropout)          (None, 128)               0         \n",
            "_________________________________________________________________\n",
            "dense_3 (Dense)              (None, 3)                 387       \n",
            "=================================================================\n",
            "Total params: 752,131\n",
            "Trainable params: 752,131\n",
            "Non-trainable params: 0\n",
            "_________________________________________________________________\n"
          ]
        }
      ]
    },
    {
      "cell_type": "markdown",
      "metadata": {
        "id": "4M2Er9o52dM8"
      },
      "source": [
        "## Part V: Train Model"
      ]
    },
    {
      "cell_type": "markdown",
      "metadata": {
        "id": "KbiEk5cj4qAJ"
      },
      "source": [
        "### Define Callbacks"
      ]
    },
    {
      "cell_type": "code",
      "metadata": {
        "id": "hiNMeZne4swT"
      },
      "source": [
        "es1 = EarlyStopping(monitor='val_loss', mode='min', verbose=1, patience=4)\n",
        "mc1 = ModelCheckpoint('best_model1.h5', monitor='val_accuracy', mode='max', verbose=1, save_best_only=True)"
      ],
      "execution_count": 53,
      "outputs": []
    },
    {
      "cell_type": "markdown",
      "metadata": {
        "id": "Xzb2nZyS407Y"
      },
      "source": [
        "### Train Process"
      ]
    },
    {
      "cell_type": "code",
      "metadata": {
        "colab": {
          "base_uri": "https://localhost:8080/"
        },
        "id": "fCKk-ja32fCF",
        "outputId": "21d0978c-2b86-4405-f180-7d480fe677c0"
      },
      "source": [
        "history1 = Processor1.fit(padded_sekuens_latih, labels_latih, epochs = 25, \n",
        "                          validation_data=(padded_sekuens_valid, labels_valid), \n",
        "                          batch_size = 32, callbacks = [es1, mc1], verbose=1\n",
        "                          )"
      ],
      "execution_count": 54,
      "outputs": [
        {
          "output_type": "stream",
          "name": "stdout",
          "text": [
            "Epoch 1/25\n",
            "1119/1119 [==============================] - 255s 225ms/step - loss: 0.9091 - accuracy: 0.5475 - val_loss: 0.6913 - val_accuracy: 0.7113\n",
            "\n",
            "Epoch 00001: val_accuracy improved from -inf to 0.71133, saving model to best_model1.h5\n",
            "Epoch 2/25\n",
            "1119/1119 [==============================] - 250s 223ms/step - loss: 0.6252 - accuracy: 0.7653 - val_loss: 0.5402 - val_accuracy: 0.8029\n",
            "\n",
            "Epoch 00002: val_accuracy improved from 0.71133 to 0.80293, saving model to best_model1.h5\n",
            "Epoch 3/25\n",
            "1119/1119 [==============================] - 252s 226ms/step - loss: 0.5123 - accuracy: 0.8219 - val_loss: 0.4914 - val_accuracy: 0.8259\n",
            "\n",
            "Epoch 00003: val_accuracy improved from 0.80293 to 0.82588, saving model to best_model1.h5\n",
            "Epoch 4/25\n",
            "1119/1119 [==============================] - 253s 227ms/step - loss: 0.4645 - accuracy: 0.8429 - val_loss: 0.4649 - val_accuracy: 0.8392\n",
            "\n",
            "Epoch 00004: val_accuracy improved from 0.82588 to 0.83922, saving model to best_model1.h5\n",
            "Epoch 5/25\n",
            "1119/1119 [==============================] - 254s 227ms/step - loss: 0.4302 - accuracy: 0.8547 - val_loss: 0.4626 - val_accuracy: 0.8453\n",
            "\n",
            "Epoch 00005: val_accuracy improved from 0.83922 to 0.84534, saving model to best_model1.h5\n",
            "Epoch 6/25\n",
            "1119/1119 [==============================] - 253s 226ms/step - loss: 0.4059 - accuracy: 0.8649 - val_loss: 0.4742 - val_accuracy: 0.8382\n",
            "\n",
            "Epoch 00006: val_accuracy did not improve from 0.84534\n",
            "Epoch 7/25\n",
            "1119/1119 [==============================] - 253s 226ms/step - loss: 0.3900 - accuracy: 0.8709 - val_loss: 0.4492 - val_accuracy: 0.8507\n",
            "\n",
            "Epoch 00007: val_accuracy improved from 0.84534 to 0.85069, saving model to best_model1.h5\n",
            "Epoch 8/25\n",
            "1119/1119 [==============================] - 251s 224ms/step - loss: 0.3751 - accuracy: 0.8760 - val_loss: 0.4473 - val_accuracy: 0.8524\n",
            "\n",
            "Epoch 00008: val_accuracy improved from 0.85069 to 0.85244, saving model to best_model1.h5\n",
            "Epoch 9/25\n",
            "1119/1119 [==============================] - 250s 224ms/step - loss: 0.3602 - accuracy: 0.8816 - val_loss: 0.4415 - val_accuracy: 0.8555\n",
            "\n",
            "Epoch 00009: val_accuracy improved from 0.85244 to 0.85550, saving model to best_model1.h5\n",
            "Epoch 10/25\n",
            "1119/1119 [==============================] - 250s 224ms/step - loss: 0.3494 - accuracy: 0.8853 - val_loss: 0.4558 - val_accuracy: 0.8540\n",
            "\n",
            "Epoch 00010: val_accuracy did not improve from 0.85550\n",
            "Epoch 11/25\n",
            "1119/1119 [==============================] - 254s 227ms/step - loss: 0.3340 - accuracy: 0.8892 - val_loss: 0.4300 - val_accuracy: 0.8607\n",
            "\n",
            "Epoch 00011: val_accuracy improved from 0.85550 to 0.86075, saving model to best_model1.h5\n",
            "Epoch 12/25\n",
            "1119/1119 [==============================] - 249s 222ms/step - loss: 0.3290 - accuracy: 0.8909 - val_loss: 0.4861 - val_accuracy: 0.8633\n",
            "\n",
            "Epoch 00012: val_accuracy improved from 0.86075 to 0.86326, saving model to best_model1.h5\n",
            "Epoch 13/25\n",
            "1119/1119 [==============================] - 252s 225ms/step - loss: 0.3197 - accuracy: 0.8950 - val_loss: 0.4794 - val_accuracy: 0.8597\n",
            "\n",
            "Epoch 00013: val_accuracy did not improve from 0.86326\n",
            "Epoch 14/25\n",
            "1119/1119 [==============================] - 256s 229ms/step - loss: 0.3157 - accuracy: 0.8957 - val_loss: 0.4500 - val_accuracy: 0.8615\n",
            "\n",
            "Epoch 00014: val_accuracy did not improve from 0.86326\n",
            "Epoch 15/25\n",
            "1119/1119 [==============================] - 257s 230ms/step - loss: 0.3051 - accuracy: 0.8979 - val_loss: 0.4909 - val_accuracy: 0.8586\n",
            "\n",
            "Epoch 00015: val_accuracy did not improve from 0.86326\n",
            "Epoch 00015: early stopping\n"
          ]
        }
      ]
    },
    {
      "cell_type": "markdown",
      "metadata": {
        "id": "AlKNELLEoKIB"
      },
      "source": [
        "### Training Results"
      ]
    },
    {
      "cell_type": "code",
      "metadata": {
        "id": "JFgKiWfPoHuB",
        "colab": {
          "base_uri": "https://localhost:8080/",
          "height": 295
        },
        "outputId": "2516b406-6bbe-4546-ac1a-27fdbd0795eb"
      },
      "source": [
        "plt.plot(history1.history['loss'], label='loss')\n",
        "plt.plot(history1.history['val_loss'], label='val_loss')\n",
        "\n",
        "plt.title(\"Plot Traing vs Validation Loss\")\n",
        "plt.xlabel('Epoch')\n",
        "plt.ylabel('Loss')\n",
        "plt.legend()\n",
        "plt.grid(True)\n",
        "\n",
        "plt.show()"
      ],
      "execution_count": 55,
      "outputs": [
        {
          "output_type": "display_data",
          "data": {
            "image/png": "[encoded data removed]",
            "text/plain": [
              "<Figure size 432x288 with 1 Axes>"
            ]
          },
          "metadata": {
            "needs_background": "light"
          }
        }
      ]
    },
    {
      "cell_type": "code",
      "metadata": {
        "id": "4cSwFhsdoZgX",
        "colab": {
          "base_uri": "https://localhost:8080/",
          "height": 295
        },
        "outputId": "2dcca859-158d-4ebf-ad2d-e80e8cd2559e"
      },
      "source": [
        "plt.plot(history1.history['accuracy'], label='accuracy')\n",
        "plt.plot(history1.history['val_accuracy'], label='val_accuracy')\n",
        "\n",
        "plt.title(\"Plot Traing vs Validation Accuracy\")\n",
        "plt.xlabel('Epoch')\n",
        "plt.ylabel('Accuracy')\n",
        "plt.legend()\n",
        "plt.grid(True)\n",
        "\n",
        "plt.show()"
      ],
      "execution_count": 56,
      "outputs": [
        {
          "output_type": "display_data",
          "data": {
            "image/png": "[encoded data removed]",
            "text/plain": [
              "<Figure size 432x288 with 1 Axes>"
            ]
          },
          "metadata": {
            "needs_background": "light"
          }
        }
      ]
    }
  ]
}