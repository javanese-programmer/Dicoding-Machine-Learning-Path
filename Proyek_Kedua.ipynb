{
  "nbformat": 4,
  "nbformat_minor": 0,
  "metadata": {
    "colab": {
      "name": "Proyek_Kedua.ipynb",
      "provenance": [],
      "collapsed_sections": [
        "qUZ1KhONksds",
        "IRj6GKcBlDh-"
      ]
    },
    "kernelspec": {
      "name": "python3",
      "display_name": "Python 3"
    },
    "language_info": {
      "name": "python"
    },
    "accelerator": "GPU"
  },
  "cells": [
    {
      "cell_type": "markdown",
      "metadata": {
        "id": "bAbQ0m83kWFz"
      },
      "source": [
        "# Time Series Analysis using RNN"
      ]
    },
    {
      "cell_type": "markdown",
      "metadata": {
        "id": "qUZ1KhONksds"
      },
      "source": [
        "## Dev's Profile"
      ]
    },
    {
      "cell_type": "markdown",
      "metadata": {
        "id": "96RZO62EkxRS"
      },
      "source": [
        "Nama : Tariq Fitria Aziz <br>\n",
        "Bergabung: 02 September 2020 <br>\n",
        "Asal: Kabupaten Wonogiri, Jawa Tengah"
      ]
    },
    {
      "cell_type": "markdown",
      "metadata": {
        "id": "IRj6GKcBlDh-"
      },
      "source": [
        "## Problem Desc"
      ]
    },
    {
      "cell_type": "markdown",
      "metadata": {
        "id": "X_6e_LIllJ3G"
      },
      "source": [
        "Di sini, akan dibuat sebuah model Deep Learning yang dapat digunakan untuk melakukan forecast pada sebuah time series, yaitu data stock exchange.\n",
        "\n",
        "Dataset yang digunakan dapat dilihat di sumber berikut: https://www.kaggle.com/mattiuzc/stock-exchange-data?select=indexProcessed.csv "
      ]
    },
    {
      "cell_type": "markdown",
      "metadata": {
        "id": "B9OSbZXvlkLA"
      },
      "source": [
        "## Part I: Preparation"
      ]
    },
    {
      "cell_type": "markdown",
      "metadata": {
        "id": "KribsViwmA2W"
      },
      "source": [
        "### Import Library"
      ]
    },
    {
      "cell_type": "code",
      "metadata": {
        "id": "V7bLE8LgkLYp"
      },
      "source": [
        "from google.colab import drive\n",
        "\n",
        "import tensorflow as tf\n",
        "from tensorflow.keras.models import Sequential\n",
        "from tensorflow.keras.layers import Dense\n",
        "from tensorflow.keras.layers import LSTM\n",
        "from tensorflow.keras.layers import Dropout\n",
        "from tensorflow.keras.callbacks import EarlyStopping\n",
        "from tensorflow.keras.callbacks import ModelCheckpoint\n",
        "from tensorflow.keras.optimizers import Adam\n",
        "from tensorflow.keras.losses import Huber\n",
        "\n",
        "from sklearn.model_selection import train_test_split\n",
        "\n",
        "import pandas as pd\n",
        "import matplotlib.pyplot as plt\n",
        "import numpy as np\n",
        "%matplotlib inline"
      ],
      "execution_count": 24,
      "outputs": []
    },
    {
      "cell_type": "markdown",
      "metadata": {
        "id": "_ke_m8nBnmEj"
      },
      "source": [
        "### Set Drive Folder"
      ]
    },
    {
      "cell_type": "code",
      "metadata": {
        "colab": {
          "base_uri": "https://localhost:8080/"
        },
        "id": "etlytOSdnlJI",
        "outputId": "fe346533-8de6-4063-d281-2f12528200e9"
      },
      "source": [
        "drive.mount('/content/drive/')"
      ],
      "execution_count": null,
      "outputs": [
        {
          "output_type": "stream",
          "name": "stdout",
          "text": [
            "Mounted at /content/drive/\n"
          ]
        }
      ]
    },
    {
      "cell_type": "markdown",
      "metadata": {
        "id": "8R6T9bSTn-hs"
      },
      "source": [
        "## Part II: Data Preparation"
      ]
    },
    {
      "cell_type": "markdown",
      "metadata": {
        "id": "gpUuxlsIqcV4"
      },
      "source": [
        "### Data Loading"
      ]
    },
    {
      "cell_type": "code",
      "metadata": {
        "colab": {
          "base_uri": "https://localhost:8080/",
          "height": 206
        },
        "id": "G-osF7amoHuL",
        "outputId": "5c2a7e8a-e6bc-48f9-cf4c-eec0369c4b8a"
      },
      "source": [
        "data = pd.read_csv('/content/drive/MyDrive/Datasets/indexProcessed.csv')\n",
        "data.head(5)"
      ],
      "execution_count": null,
      "outputs": [
        {
          "output_type": "execute_result",
          "data": {
            "text/html": [
              "<div>\n",
              "<style scoped>\n",
              "    .dataframe tbody tr th:only-of-type {\n",
              "        vertical-align: middle;\n",
              "    }\n",
              "\n",
              "    .dataframe tbody tr th {\n",
              "        vertical-align: top;\n",
              "    }\n",
              "\n",
              "    .dataframe thead th {\n",
              "        text-align: right;\n",
              "    }\n",
              "</style>\n",
              "<table border=\"1\" class=\"dataframe\">\n",
              "  <thead>\n",
              "    <tr style=\"text-align: right;\">\n",
              "      <th></th>\n",
              "      <th>Index</th>\n",
              "      <th>Date</th>\n",
              "      <th>Open</th>\n",
              "      <th>High</th>\n",
              "      <th>Low</th>\n",
              "      <th>Close</th>\n",
              "      <th>Adj Close</th>\n",
              "      <th>Volume</th>\n",
              "      <th>CloseUSD</th>\n",
              "    </tr>\n",
              "  </thead>\n",
              "  <tbody>\n",
              "    <tr>\n",
              "      <th>0</th>\n",
              "      <td>HSI</td>\n",
              "      <td>1986-12-31</td>\n",
              "      <td>2568.300049</td>\n",
              "      <td>2568.300049</td>\n",
              "      <td>2568.300049</td>\n",
              "      <td>2568.300049</td>\n",
              "      <td>2568.300049</td>\n",
              "      <td>0.0</td>\n",
              "      <td>333.879006</td>\n",
              "    </tr>\n",
              "    <tr>\n",
              "      <th>1</th>\n",
              "      <td>HSI</td>\n",
              "      <td>1987-01-02</td>\n",
              "      <td>2540.100098</td>\n",
              "      <td>2540.100098</td>\n",
              "      <td>2540.100098</td>\n",
              "      <td>2540.100098</td>\n",
              "      <td>2540.100098</td>\n",
              "      <td>0.0</td>\n",
              "      <td>330.213013</td>\n",
              "    </tr>\n",
              "    <tr>\n",
              "      <th>2</th>\n",
              "      <td>HSI</td>\n",
              "      <td>1987-01-05</td>\n",
              "      <td>2552.399902</td>\n",
              "      <td>2552.399902</td>\n",
              "      <td>2552.399902</td>\n",
              "      <td>2552.399902</td>\n",
              "      <td>2552.399902</td>\n",
              "      <td>0.0</td>\n",
              "      <td>331.811987</td>\n",
              "    </tr>\n",
              "    <tr>\n",
              "      <th>3</th>\n",
              "      <td>HSI</td>\n",
              "      <td>1987-01-06</td>\n",
              "      <td>2583.899902</td>\n",
              "      <td>2583.899902</td>\n",
              "      <td>2583.899902</td>\n",
              "      <td>2583.899902</td>\n",
              "      <td>2583.899902</td>\n",
              "      <td>0.0</td>\n",
              "      <td>335.906987</td>\n",
              "    </tr>\n",
              "    <tr>\n",
              "      <th>4</th>\n",
              "      <td>HSI</td>\n",
              "      <td>1987-01-07</td>\n",
              "      <td>2607.100098</td>\n",
              "      <td>2607.100098</td>\n",
              "      <td>2607.100098</td>\n",
              "      <td>2607.100098</td>\n",
              "      <td>2607.100098</td>\n",
              "      <td>0.0</td>\n",
              "      <td>338.923013</td>\n",
              "    </tr>\n",
              "  </tbody>\n",
              "</table>\n",
              "</div>"
            ],
            "text/plain": [
              "  Index        Date         Open  ...    Adj Close  Volume    CloseUSD\n",
              "0   HSI  1986-12-31  2568.300049  ...  2568.300049     0.0  333.879006\n",
              "1   HSI  1987-01-02  2540.100098  ...  2540.100098     0.0  330.213013\n",
              "2   HSI  1987-01-05  2552.399902  ...  2552.399902     0.0  331.811987\n",
              "3   HSI  1987-01-06  2583.899902  ...  2583.899902     0.0  335.906987\n",
              "4   HSI  1987-01-07  2607.100098  ...  2607.100098     0.0  338.923013\n",
              "\n",
              "[5 rows x 9 columns]"
            ]
          },
          "metadata": {},
          "execution_count": 3
        }
      ]
    },
    {
      "cell_type": "markdown",
      "metadata": {
        "id": "t8dBHd95qkJF"
      },
      "source": [
        "### Data Information"
      ]
    },
    {
      "cell_type": "code",
      "metadata": {
        "colab": {
          "base_uri": "https://localhost:8080/"
        },
        "id": "1t3Dv_bdqgHQ",
        "outputId": "a6ed483b-621b-4875-dfcd-f1c4dfa58eab"
      },
      "source": [
        "data.info()"
      ],
      "execution_count": null,
      "outputs": [
        {
          "output_type": "stream",
          "name": "stdout",
          "text": [
            "<class 'pandas.core.frame.DataFrame'>\n",
            "RangeIndex: 104224 entries, 0 to 104223\n",
            "Data columns (total 9 columns):\n",
            " #   Column     Non-Null Count   Dtype  \n",
            "---  ------     --------------   -----  \n",
            " 0   Index      104224 non-null  object \n",
            " 1   Date       104224 non-null  object \n",
            " 2   Open       104224 non-null  float64\n",
            " 3   High       104224 non-null  float64\n",
            " 4   Low        104224 non-null  float64\n",
            " 5   Close      104224 non-null  float64\n",
            " 6   Adj Close  104224 non-null  float64\n",
            " 7   Volume     104224 non-null  float64\n",
            " 8   CloseUSD   104224 non-null  float64\n",
            "dtypes: float64(7), object(2)\n",
            "memory usage: 7.2+ MB\n"
          ]
        }
      ]
    },
    {
      "cell_type": "markdown",
      "metadata": {
        "id": "7-2SJKH52hGy"
      },
      "source": [
        "KETERANGAN <br>\n",
        "\n",
        "Index: Ticker symbol for indexes <br>\n",
        "Date: Date of observation <br>\n",
        "Open: Opening Price <br>\n",
        "High: Highest price during trading day <br>\n",
        "Low: Lowest price during trading day <br>\n",
        "Close: Closing price <br>\n",
        "Adj Close: Closing price adjusted for dividends and stock splits <br>\n",
        "Volume: Number of shares traded during trading day <br>\n",
        "CloseUSD: Close price in terms of USD"
      ]
    },
    {
      "cell_type": "code",
      "metadata": {
        "colab": {
          "base_uri": "https://localhost:8080/"
        },
        "id": "-V5xNkq735c5",
        "outputId": "49148a8f-e56e-47a0-b464-30e328ca944f"
      },
      "source": [
        "data.isna().sum()"
      ],
      "execution_count": null,
      "outputs": [
        {
          "output_type": "execute_result",
          "data": {
            "text/plain": [
              "Index        0\n",
              "Date         0\n",
              "Open         0\n",
              "High         0\n",
              "Low          0\n",
              "Close        0\n",
              "Adj Close    0\n",
              "Volume       0\n",
              "CloseUSD     0\n",
              "dtype: int64"
            ]
          },
          "metadata": {},
          "execution_count": 5
        }
      ]
    },
    {
      "cell_type": "markdown",
      "metadata": {
        "id": "8MkdO35gtojk"
      },
      "source": [
        "### Data Preprocessing"
      ]
    },
    {
      "cell_type": "markdown",
      "metadata": {
        "id": "QZ3e4-tI95Q9"
      },
      "source": [
        "Choose One Index"
      ]
    },
    {
      "cell_type": "code",
      "metadata": {
        "id": "_4fq3U-598Cs"
      },
      "source": [
        "data2 = data.loc[data['Index'] == 'NYA']"
      ],
      "execution_count": null,
      "outputs": []
    },
    {
      "cell_type": "code",
      "metadata": {
        "colab": {
          "base_uri": "https://localhost:8080/",
          "height": 363
        },
        "id": "e98cHZxj-Q3U",
        "outputId": "18c745fc-7695-4c13-980e-54e07321a0a0"
      },
      "source": [
        "data2.head(10)"
      ],
      "execution_count": null,
      "outputs": [
        {
          "output_type": "execute_result",
          "data": {
            "text/html": [
              "<div>\n",
              "<style scoped>\n",
              "    .dataframe tbody tr th:only-of-type {\n",
              "        vertical-align: middle;\n",
              "    }\n",
              "\n",
              "    .dataframe tbody tr th {\n",
              "        vertical-align: top;\n",
              "    }\n",
              "\n",
              "    .dataframe thead th {\n",
              "        text-align: right;\n",
              "    }\n",
              "</style>\n",
              "<table border=\"1\" class=\"dataframe\">\n",
              "  <thead>\n",
              "    <tr style=\"text-align: right;\">\n",
              "      <th></th>\n",
              "      <th>Index</th>\n",
              "      <th>Date</th>\n",
              "      <th>Open</th>\n",
              "      <th>High</th>\n",
              "      <th>Low</th>\n",
              "      <th>Close</th>\n",
              "      <th>Adj Close</th>\n",
              "      <th>Volume</th>\n",
              "      <th>CloseUSD</th>\n",
              "    </tr>\n",
              "  </thead>\n",
              "  <tbody>\n",
              "    <tr>\n",
              "      <th>8492</th>\n",
              "      <td>NYA</td>\n",
              "      <td>1965-12-31</td>\n",
              "      <td>528.690002</td>\n",
              "      <td>528.690002</td>\n",
              "      <td>528.690002</td>\n",
              "      <td>528.690002</td>\n",
              "      <td>528.690002</td>\n",
              "      <td>0.0</td>\n",
              "      <td>528.690002</td>\n",
              "    </tr>\n",
              "    <tr>\n",
              "      <th>8493</th>\n",
              "      <td>NYA</td>\n",
              "      <td>1966-01-03</td>\n",
              "      <td>527.210022</td>\n",
              "      <td>527.210022</td>\n",
              "      <td>527.210022</td>\n",
              "      <td>527.210022</td>\n",
              "      <td>527.210022</td>\n",
              "      <td>0.0</td>\n",
              "      <td>527.210022</td>\n",
              "    </tr>\n",
              "    <tr>\n",
              "      <th>8494</th>\n",
              "      <td>NYA</td>\n",
              "      <td>1966-01-04</td>\n",
              "      <td>527.840027</td>\n",
              "      <td>527.840027</td>\n",
              "      <td>527.840027</td>\n",
              "      <td>527.840027</td>\n",
              "      <td>527.840027</td>\n",
              "      <td>0.0</td>\n",
              "      <td>527.840027</td>\n",
              "    </tr>\n",
              "    <tr>\n",
              "      <th>8495</th>\n",
              "      <td>NYA</td>\n",
              "      <td>1966-01-05</td>\n",
              "      <td>531.119995</td>\n",
              "      <td>531.119995</td>\n",
              "      <td>531.119995</td>\n",
              "      <td>531.119995</td>\n",
              "      <td>531.119995</td>\n",
              "      <td>0.0</td>\n",
              "      <td>531.119995</td>\n",
              "    </tr>\n",
              "    <tr>\n",
              "      <th>8496</th>\n",
              "      <td>NYA</td>\n",
              "      <td>1966-01-06</td>\n",
              "      <td>532.070007</td>\n",
              "      <td>532.070007</td>\n",
              "      <td>532.070007</td>\n",
              "      <td>532.070007</td>\n",
              "      <td>532.070007</td>\n",
              "      <td>0.0</td>\n",
              "      <td>532.070007</td>\n",
              "    </tr>\n",
              "    <tr>\n",
              "      <th>8497</th>\n",
              "      <td>NYA</td>\n",
              "      <td>1966-01-07</td>\n",
              "      <td>532.599976</td>\n",
              "      <td>532.599976</td>\n",
              "      <td>532.599976</td>\n",
              "      <td>532.599976</td>\n",
              "      <td>532.599976</td>\n",
              "      <td>0.0</td>\n",
              "      <td>532.599976</td>\n",
              "    </tr>\n",
              "    <tr>\n",
              "      <th>8498</th>\n",
              "      <td>NYA</td>\n",
              "      <td>1966-01-10</td>\n",
              "      <td>533.869995</td>\n",
              "      <td>533.869995</td>\n",
              "      <td>533.869995</td>\n",
              "      <td>533.869995</td>\n",
              "      <td>533.869995</td>\n",
              "      <td>0.0</td>\n",
              "      <td>533.869995</td>\n",
              "    </tr>\n",
              "    <tr>\n",
              "      <th>8499</th>\n",
              "      <td>NYA</td>\n",
              "      <td>1966-01-11</td>\n",
              "      <td>534.289978</td>\n",
              "      <td>534.289978</td>\n",
              "      <td>534.289978</td>\n",
              "      <td>534.289978</td>\n",
              "      <td>534.289978</td>\n",
              "      <td>0.0</td>\n",
              "      <td>534.289978</td>\n",
              "    </tr>\n",
              "    <tr>\n",
              "      <th>8500</th>\n",
              "      <td>NYA</td>\n",
              "      <td>1966-01-12</td>\n",
              "      <td>533.340027</td>\n",
              "      <td>533.340027</td>\n",
              "      <td>533.340027</td>\n",
              "      <td>533.340027</td>\n",
              "      <td>533.340027</td>\n",
              "      <td>0.0</td>\n",
              "      <td>533.340027</td>\n",
              "    </tr>\n",
              "    <tr>\n",
              "      <th>8501</th>\n",
              "      <td>NYA</td>\n",
              "      <td>1966-01-13</td>\n",
              "      <td>534.400024</td>\n",
              "      <td>534.400024</td>\n",
              "      <td>534.400024</td>\n",
              "      <td>534.400024</td>\n",
              "      <td>534.400024</td>\n",
              "      <td>0.0</td>\n",
              "      <td>534.400024</td>\n",
              "    </tr>\n",
              "  </tbody>\n",
              "</table>\n",
              "</div>"
            ],
            "text/plain": [
              "     Index        Date        Open  ...   Adj Close  Volume    CloseUSD\n",
              "8492   NYA  1965-12-31  528.690002  ...  528.690002     0.0  528.690002\n",
              "8493   NYA  1966-01-03  527.210022  ...  527.210022     0.0  527.210022\n",
              "8494   NYA  1966-01-04  527.840027  ...  527.840027     0.0  527.840027\n",
              "8495   NYA  1966-01-05  531.119995  ...  531.119995     0.0  531.119995\n",
              "8496   NYA  1966-01-06  532.070007  ...  532.070007     0.0  532.070007\n",
              "8497   NYA  1966-01-07  532.599976  ...  532.599976     0.0  532.599976\n",
              "8498   NYA  1966-01-10  533.869995  ...  533.869995     0.0  533.869995\n",
              "8499   NYA  1966-01-11  534.289978  ...  534.289978     0.0  534.289978\n",
              "8500   NYA  1966-01-12  533.340027  ...  533.340027     0.0  533.340027\n",
              "8501   NYA  1966-01-13  534.400024  ...  534.400024     0.0  534.400024\n",
              "\n",
              "[10 rows x 9 columns]"
            ]
          },
          "metadata": {},
          "execution_count": 7
        }
      ]
    },
    {
      "cell_type": "markdown",
      "metadata": {
        "id": "wEW11fZt7M4K"
      },
      "source": [
        "Change Datatype"
      ]
    },
    {
      "cell_type": "code",
      "metadata": {
        "colab": {
          "base_uri": "https://localhost:8080/"
        },
        "id": "2eK7CpFO7Pbb",
        "outputId": "52bf2bb0-dc9a-4f91-ca09-3a6d606de52b"
      },
      "source": [
        "data2['Date'] = pd.to_datetime(data2['Date'])"
      ],
      "execution_count": null,
      "outputs": [
        {
          "output_type": "stream",
          "name": "stderr",
          "text": [
            "/usr/local/lib/python3.7/dist-packages/ipykernel_launcher.py:1: SettingWithCopyWarning: \n",
            "A value is trying to be set on a copy of a slice from a DataFrame.\n",
            "Try using .loc[row_indexer,col_indexer] = value instead\n",
            "\n",
            "See the caveats in the documentation: https://pandas.pydata.org/pandas-docs/stable/user_guide/indexing.html#returning-a-view-versus-a-copy\n",
            "  \"\"\"Entry point for launching an IPython kernel.\n"
          ]
        }
      ]
    },
    {
      "cell_type": "code",
      "metadata": {
        "colab": {
          "base_uri": "https://localhost:8080/"
        },
        "id": "Pq5jqQpq7b9H",
        "outputId": "d8ccbdcb-ff16-4913-fbc2-ab835891ffcd"
      },
      "source": [
        "data2.info()"
      ],
      "execution_count": null,
      "outputs": [
        {
          "output_type": "stream",
          "name": "stdout",
          "text": [
            "<class 'pandas.core.frame.DataFrame'>\n",
            "Int64Index: 13947 entries, 8492 to 22438\n",
            "Data columns (total 9 columns):\n",
            " #   Column     Non-Null Count  Dtype         \n",
            "---  ------     --------------  -----         \n",
            " 0   Index      13947 non-null  object        \n",
            " 1   Date       13947 non-null  datetime64[ns]\n",
            " 2   Open       13947 non-null  float64       \n",
            " 3   High       13947 non-null  float64       \n",
            " 4   Low        13947 non-null  float64       \n",
            " 5   Close      13947 non-null  float64       \n",
            " 6   Adj Close  13947 non-null  float64       \n",
            " 7   Volume     13947 non-null  float64       \n",
            " 8   CloseUSD   13947 non-null  float64       \n",
            "dtypes: datetime64[ns](1), float64(7), object(1)\n",
            "memory usage: 1.1+ MB\n"
          ]
        }
      ]
    },
    {
      "cell_type": "markdown",
      "metadata": {
        "id": "JfxF3wnMrSVP"
      },
      "source": [
        "## Part III: Data Visualization"
      ]
    },
    {
      "cell_type": "code",
      "metadata": {
        "id": "-Vh85XKmBxMT"
      },
      "source": [
        "series1 = data2['Open'].values\n",
        "date = data2['Date'].values"
      ],
      "execution_count": null,
      "outputs": []
    },
    {
      "cell_type": "code",
      "metadata": {
        "colab": {
          "base_uri": "https://localhost:8080/",
          "height": 350
        },
        "id": "bBhKDTNc5KEB",
        "outputId": "1b7208a4-a45a-4c95-de4a-2bdf54f45d21"
      },
      "source": [
        "fig1, ax1 = plt.subplots(figsize = (15,5))\n",
        "\n",
        "ax1.plot(date, series1, label = 'Open')\n",
        "ax1.legend()\n",
        "ax1.set_title('Opening Stock Price by Years')\n",
        "ax1.set_xlabel('Years');\n",
        "ax1.set_ylabel('Price');"
      ],
      "execution_count": null,
      "outputs": [
        {
          "output_type": "display_data",
          "data": {
            "image/png": "[encoded data removed]",
            "text/plain": [
              "<Figure size 1080x360 with 1 Axes>"
            ]
          },
          "metadata": {
            "needs_background": "light"
          }
        }
      ]
    },
    {
      "cell_type": "markdown",
      "metadata": {
        "id": "djzSBlvk_p2E"
      },
      "source": [
        "## Part IV: Data Split and Windowing"
      ]
    },
    {
      "cell_type": "code",
      "metadata": {
        "id": "cinLqUFBz0_k"
      },
      "source": [
        "train_series, test_series = train_test_split(series1, shuffle=False, test_size = 0.2)"
      ],
      "execution_count": 25,
      "outputs": []
    },
    {
      "cell_type": "code",
      "metadata": {
        "id": "g2lOKjr3_tAx"
      },
      "source": [
        "def windowed_dataset(series, window_size, batch_size, shuffle_buffer):\n",
        "    series = tf.expand_dims(series, axis=-1)\n",
        "    ds = tf.data.Dataset.from_tensor_slices(series)\n",
        "    ds = ds.window(window_size + 1, shift=1, drop_remainder=True)\n",
        "    ds = ds.flat_map(lambda w: w.batch(window_size + 1))\n",
        "    ds = ds.shuffle(shuffle_buffer)\n",
        "    ds = ds.map(lambda w: (w[:-1], w[-1:]))\n",
        "    return ds.batch(batch_size).prefetch(1)"
      ],
      "execution_count": 26,
      "outputs": []
    },
    {
      "cell_type": "code",
      "metadata": {
        "id": "w2eGEtZ__t9Y"
      },
      "source": [
        "train_set = windowed_dataset(train_series, window_size = 5, batch_size = 50, shuffle_buffer = 1000)\n",
        "validation_set = windowed_dataset(test_series, window_size = 5, batch_size = 50, shuffle_buffer = 1000)"
      ],
      "execution_count": 57,
      "outputs": []
    },
    {
      "cell_type": "markdown",
      "metadata": {
        "id": "oR96k8bovgJ2"
      },
      "source": [
        "## Part V: Model Creation"
      ]
    },
    {
      "cell_type": "markdown",
      "metadata": {
        "id": "Lycgv7hpvp0A"
      },
      "source": [
        "### Function Definition"
      ]
    },
    {
      "cell_type": "code",
      "metadata": {
        "id": "iMC2cBmxvnKc"
      },
      "source": [
        "def initialize_model(name, loss, optimizer, metrics):\n",
        "  model = Sequential(name = name)\n",
        "\n",
        "  model.add(LSTM(\n",
        "      units = 512,\n",
        "      return_sequences = True\n",
        "      )\n",
        "  )\n",
        "  model.add(LSTM(\n",
        "      units = 256,\n",
        "      dropout = 0.5,\n",
        "      return_sequences = True\n",
        "      )\n",
        "  )\n",
        "  model.add(LSTM(\n",
        "      units = 128,\n",
        "      dropout = 0.5,\n",
        "      )\n",
        "  )\n",
        "  model.add(Dense(\n",
        "      units = 2048,\n",
        "      activation = 'relu',\n",
        "      kernel_initializer = 'he_uniform'\n",
        "      )\n",
        "  )\n",
        "  model.add(Dropout(\n",
        "      rate = 0.5\n",
        "      )\n",
        "  )\n",
        "  model.add(Dense(\n",
        "      units = 1024,\n",
        "      activation = 'relu',\n",
        "      kernel_initializer = 'he_uniform'\n",
        "      )\n",
        "  )\n",
        "  model.add(Dropout(\n",
        "      rate = 0.5\n",
        "      )\n",
        "  )\n",
        "  model.add(Dense(\n",
        "      units = 512,\n",
        "      activation = 'relu',\n",
        "      kernel_initializer = 'he_uniform'\n",
        "      )\n",
        "  )\n",
        "  model.add(Dropout(\n",
        "      rate = 0.5\n",
        "      )\n",
        "  )\n",
        "  model.add(Dense(\n",
        "      units = 256,\n",
        "      activation = 'relu',\n",
        "      kernel_initializer = 'he_uniform'\n",
        "      )\n",
        "  )\n",
        "  model.add(Dropout(\n",
        "      rate = 0.5\n",
        "      )\n",
        "  )\n",
        "  model.add(Dense(\n",
        "      units = 1,\n",
        "      activation = 'linear',\n",
        "      )\n",
        "  )\n",
        "\n",
        "  model.compile(loss = loss, optimizer = optimizer, metrics = [metrics])\n",
        "\n",
        "  return model"
      ],
      "execution_count": 58,
      "outputs": []
    },
    {
      "cell_type": "markdown",
      "metadata": {
        "id": "xOo4YOrH1o-F"
      },
      "source": [
        "### Model Initialization"
      ]
    },
    {
      "cell_type": "code",
      "metadata": {
        "id": "kbS-hKb_A68g"
      },
      "source": [
        "optimizers = Adam(learning_rate=0.00001)\n",
        "loss = Huber(delta=1.0)\n",
        "metrics = 'mae'"
      ],
      "execution_count": 59,
      "outputs": []
    },
    {
      "cell_type": "code",
      "metadata": {
        "id": "Sr7PrZ_B1sUv"
      },
      "source": [
        "Predictor1 = initialize_model('Predictor1', loss, optimizers, metrics)"
      ],
      "execution_count": 60,
      "outputs": []
    },
    {
      "cell_type": "markdown",
      "metadata": {
        "id": "4M2Er9o52dM8"
      },
      "source": [
        "## Part V: Train Model"
      ]
    },
    {
      "cell_type": "markdown",
      "metadata": {
        "id": "KbiEk5cj4qAJ"
      },
      "source": [
        "### Define Callbacks"
      ]
    },
    {
      "cell_type": "code",
      "metadata": {
        "id": "hiNMeZne4swT"
      },
      "source": [
        "es1 = EarlyStopping(monitor='mae', mode='min', verbose=1, patience=10)\n",
        "mc1 = ModelCheckpoint('best_model1.h5', monitor='val_mae', mode='min', verbose=1, save_best_only=True)"
      ],
      "execution_count": 61,
      "outputs": []
    },
    {
      "cell_type": "markdown",
      "metadata": {
        "id": "Xzb2nZyS407Y"
      },
      "source": [
        "### Train Process"
      ]
    },
    {
      "cell_type": "code",
      "metadata": {
        "colab": {
          "base_uri": "https://localhost:8080/"
        },
        "id": "fCKk-ja32fCF",
        "outputId": "13b1dd4c-953f-4ae1-db8c-d21d7bdb8515"
      },
      "source": [
        "history1 = Predictor1.fit(train_set, validation_data = validation_set, epochs = 100,  callbacks = [es1, mc1], verbose=1)"
      ],
      "execution_count": 62,
      "outputs": [
        {
          "output_type": "stream",
          "name": "stdout",
          "text": [
            "Epoch 1/100\n",
            "224/224 [==============================] - 13s 31ms/step - loss: 2879.2910 - mae: 2879.7915 - val_loss: 10547.4775 - val_mae: 10547.9766\n",
            "\n",
            "Epoch 00001: val_mae improved from inf to 10547.97656, saving model to best_model1.h5\n",
            "Epoch 2/100\n",
            "224/224 [==============================] - 6s 26ms/step - loss: 1716.4265 - mae: 1716.9263 - val_loss: 6779.0605 - val_mae: 6779.5596\n",
            "\n",
            "Epoch 00002: val_mae improved from 10547.97656 to 6779.55957, saving model to best_model1.h5\n",
            "Epoch 3/100\n",
            "224/224 [==============================] - 6s 25ms/step - loss: 2455.0735 - mae: 2455.5728 - val_loss: 7560.0137 - val_mae: 7560.5142\n",
            "\n",
            "Epoch 00003: val_mae did not improve from 6779.55957\n",
            "Epoch 4/100\n",
            "224/224 [==============================] - 6s 28ms/step - loss: 2218.1233 - mae: 2218.6235 - val_loss: 7442.3413 - val_mae: 7442.8408\n",
            "\n",
            "Epoch 00004: val_mae did not improve from 6779.55957\n",
            "Epoch 5/100\n",
            "224/224 [==============================] - 6s 25ms/step - loss: 1695.5527 - mae: 1696.0525 - val_loss: 6486.9570 - val_mae: 6487.4570\n",
            "\n",
            "Epoch 00005: val_mae improved from 6779.55957 to 6487.45703, saving model to best_model1.h5\n",
            "Epoch 6/100\n",
            "224/224 [==============================] - 5s 24ms/step - loss: 934.1718 - mae: 934.6715 - val_loss: 4440.0757 - val_mae: 4440.5757\n",
            "\n",
            "Epoch 00006: val_mae improved from 6487.45703 to 4440.57568, saving model to best_model1.h5\n",
            "Epoch 7/100\n",
            "224/224 [==============================] - 5s 24ms/step - loss: 564.9889 - mae: 565.4884 - val_loss: 3121.0251 - val_mae: 3121.5249\n",
            "\n",
            "Epoch 00007: val_mae improved from 4440.57568 to 3121.52490, saving model to best_model1.h5\n",
            "Epoch 8/100\n",
            "224/224 [==============================] - 6s 26ms/step - loss: 491.2915 - mae: 491.7911 - val_loss: 2651.1699 - val_mae: 2651.6699\n",
            "\n",
            "Epoch 00008: val_mae improved from 3121.52490 to 2651.66992, saving model to best_model1.h5\n",
            "Epoch 9/100\n",
            "224/224 [==============================] - 6s 25ms/step - loss: 467.0903 - mae: 467.5898 - val_loss: 2398.4866 - val_mae: 2398.9866\n",
            "\n",
            "Epoch 00009: val_mae improved from 2651.66992 to 2398.98657, saving model to best_model1.h5\n",
            "Epoch 10/100\n",
            "224/224 [==============================] - 6s 25ms/step - loss: 445.7519 - mae: 446.2514 - val_loss: 2222.8674 - val_mae: 2223.3672\n",
            "\n",
            "Epoch 00010: val_mae improved from 2398.98657 to 2223.36719, saving model to best_model1.h5\n",
            "Epoch 11/100\n",
            "224/224 [==============================] - 6s 26ms/step - loss: 417.9841 - mae: 418.4836 - val_loss: 2034.2894 - val_mae: 2034.7894\n",
            "\n",
            "Epoch 00011: val_mae improved from 2223.36719 to 2034.78943, saving model to best_model1.h5\n",
            "Epoch 12/100\n",
            "224/224 [==============================] - 6s 25ms/step - loss: 404.5551 - mae: 405.0544 - val_loss: 1886.9404 - val_mae: 1887.4402\n",
            "\n",
            "Epoch 00012: val_mae improved from 2034.78943 to 1887.44019, saving model to best_model1.h5\n",
            "Epoch 13/100\n",
            "224/224 [==============================] - 6s 25ms/step - loss: 392.4112 - mae: 392.9106 - val_loss: 1790.9291 - val_mae: 1791.4291\n",
            "\n",
            "Epoch 00013: val_mae improved from 1887.44019 to 1791.42908, saving model to best_model1.h5\n",
            "Epoch 14/100\n",
            "224/224 [==============================] - 6s 26ms/step - loss: 381.5175 - mae: 382.0169 - val_loss: 1653.1243 - val_mae: 1653.6243\n",
            "\n",
            "Epoch 00014: val_mae improved from 1791.42908 to 1653.62427, saving model to best_model1.h5\n",
            "Epoch 15/100\n",
            "224/224 [==============================] - 6s 26ms/step - loss: 386.5892 - mae: 387.0885 - val_loss: 1494.4038 - val_mae: 1494.9037\n",
            "\n",
            "Epoch 00015: val_mae improved from 1653.62427 to 1494.90369, saving model to best_model1.h5\n",
            "Epoch 16/100\n",
            "224/224 [==============================] - 6s 26ms/step - loss: 368.1478 - mae: 368.6473 - val_loss: 1428.2460 - val_mae: 1428.7460\n",
            "\n",
            "Epoch 00016: val_mae improved from 1494.90369 to 1428.74597, saving model to best_model1.h5\n",
            "Epoch 17/100\n",
            "224/224 [==============================] - 6s 25ms/step - loss: 361.3808 - mae: 361.8801 - val_loss: 1333.6050 - val_mae: 1334.1050\n",
            "\n",
            "Epoch 00017: val_mae improved from 1428.74597 to 1334.10498, saving model to best_model1.h5\n",
            "Epoch 18/100\n",
            "224/224 [==============================] - 6s 25ms/step - loss: 359.1044 - mae: 359.6036 - val_loss: 1213.8772 - val_mae: 1214.3772\n",
            "\n",
            "Epoch 00018: val_mae improved from 1334.10498 to 1214.37720, saving model to best_model1.h5\n",
            "Epoch 19/100\n",
            "224/224 [==============================] - 6s 24ms/step - loss: 348.2363 - mae: 348.7356 - val_loss: 1256.2192 - val_mae: 1256.7192\n",
            "\n",
            "Epoch 00019: val_mae did not improve from 1214.37720\n",
            "Epoch 20/100\n",
            "224/224 [==============================] - 6s 26ms/step - loss: 342.7434 - mae: 343.2426 - val_loss: 1146.7860 - val_mae: 1147.2859\n",
            "\n",
            "Epoch 00020: val_mae improved from 1214.37720 to 1147.28589, saving model to best_model1.h5\n",
            "Epoch 21/100\n",
            "224/224 [==============================] - 6s 25ms/step - loss: 346.4888 - mae: 346.9879 - val_loss: 1176.4287 - val_mae: 1176.9286\n",
            "\n",
            "Epoch 00021: val_mae did not improve from 1147.28589\n",
            "Epoch 22/100\n",
            "224/224 [==============================] - 6s 25ms/step - loss: 349.7173 - mae: 350.2166 - val_loss: 1129.1952 - val_mae: 1129.6948\n",
            "\n",
            "Epoch 00022: val_mae improved from 1147.28589 to 1129.69482, saving model to best_model1.h5\n",
            "Epoch 23/100\n",
            "224/224 [==============================] - 6s 24ms/step - loss: 341.8911 - mae: 342.3901 - val_loss: 1002.5530 - val_mae: 1003.0527\n",
            "\n",
            "Epoch 00023: val_mae improved from 1129.69482 to 1003.05267, saving model to best_model1.h5\n",
            "Epoch 24/100\n",
            "224/224 [==============================] - 6s 25ms/step - loss: 338.4588 - mae: 338.9582 - val_loss: 989.0818 - val_mae: 989.5817\n",
            "\n",
            "Epoch 00024: val_mae improved from 1003.05267 to 989.58167, saving model to best_model1.h5\n",
            "Epoch 25/100\n",
            "224/224 [==============================] - 6s 24ms/step - loss: 333.3951 - mae: 333.8943 - val_loss: 1291.5031 - val_mae: 1292.0027\n",
            "\n",
            "Epoch 00025: val_mae did not improve from 989.58167\n",
            "Epoch 26/100\n",
            "224/224 [==============================] - 5s 24ms/step - loss: 347.5891 - mae: 348.0885 - val_loss: 980.7983 - val_mae: 981.2981\n",
            "\n",
            "Epoch 00026: val_mae improved from 989.58167 to 981.29810, saving model to best_model1.h5\n",
            "Epoch 27/100\n",
            "224/224 [==============================] - 6s 25ms/step - loss: 335.2623 - mae: 335.7613 - val_loss: 977.4960 - val_mae: 977.9958\n",
            "\n",
            "Epoch 00027: val_mae improved from 981.29810 to 977.99579, saving model to best_model1.h5\n",
            "Epoch 28/100\n",
            "224/224 [==============================] - 6s 25ms/step - loss: 337.9202 - mae: 338.4192 - val_loss: 1067.5663 - val_mae: 1068.0663\n",
            "\n",
            "Epoch 00028: val_mae did not improve from 977.99579\n",
            "Epoch 29/100\n",
            "224/224 [==============================] - 6s 25ms/step - loss: 326.4751 - mae: 326.9745 - val_loss: 1131.6918 - val_mae: 1132.1917\n",
            "\n",
            "Epoch 00029: val_mae did not improve from 977.99579\n",
            "Epoch 30/100\n",
            "224/224 [==============================] - 6s 25ms/step - loss: 326.5883 - mae: 327.0876 - val_loss: 1145.9951 - val_mae: 1146.4951\n",
            "\n",
            "Epoch 00030: val_mae did not improve from 977.99579\n",
            "Epoch 31/100\n",
            "224/224 [==============================] - 6s 25ms/step - loss: 335.6145 - mae: 336.1134 - val_loss: 1018.9490 - val_mae: 1019.4489\n",
            "\n",
            "Epoch 00031: val_mae did not improve from 977.99579\n",
            "Epoch 32/100\n",
            "224/224 [==============================] - 6s 25ms/step - loss: 340.9959 - mae: 341.4951 - val_loss: 943.7869 - val_mae: 944.2867\n",
            "\n",
            "Epoch 00032: val_mae improved from 977.99579 to 944.28674, saving model to best_model1.h5\n",
            "Epoch 33/100\n",
            "224/224 [==============================] - 6s 26ms/step - loss: 321.9589 - mae: 322.4579 - val_loss: 891.9360 - val_mae: 892.4356\n",
            "\n",
            "Epoch 00033: val_mae improved from 944.28674 to 892.43561, saving model to best_model1.h5\n",
            "Epoch 34/100\n",
            "224/224 [==============================] - 6s 26ms/step - loss: 323.8894 - mae: 324.3885 - val_loss: 820.6943 - val_mae: 821.1940\n",
            "\n",
            "Epoch 00034: val_mae improved from 892.43561 to 821.19397, saving model to best_model1.h5\n",
            "Epoch 35/100\n",
            "224/224 [==============================] - 6s 26ms/step - loss: 317.4913 - mae: 317.9905 - val_loss: 886.7155 - val_mae: 887.2153\n",
            "\n",
            "Epoch 00035: val_mae did not improve from 821.19397\n",
            "Epoch 36/100\n",
            "224/224 [==============================] - 6s 26ms/step - loss: 314.7368 - mae: 315.2361 - val_loss: 879.3134 - val_mae: 879.8132\n",
            "\n",
            "Epoch 00036: val_mae did not improve from 821.19397\n",
            "Epoch 37/100\n",
            "224/224 [==============================] - 6s 25ms/step - loss: 319.9309 - mae: 320.4298 - val_loss: 903.9943 - val_mae: 904.4943\n",
            "\n",
            "Epoch 00037: val_mae did not improve from 821.19397\n",
            "Epoch 38/100\n",
            "224/224 [==============================] - 6s 26ms/step - loss: 310.6962 - mae: 311.1953 - val_loss: 838.1761 - val_mae: 838.6757\n",
            "\n",
            "Epoch 00038: val_mae did not improve from 821.19397\n",
            "Epoch 39/100\n",
            "224/224 [==============================] - 6s 25ms/step - loss: 313.4934 - mae: 313.9929 - val_loss: 1004.2019 - val_mae: 1004.7019\n",
            "\n",
            "Epoch 00039: val_mae did not improve from 821.19397\n",
            "Epoch 40/100\n",
            "224/224 [==============================] - 6s 25ms/step - loss: 321.8844 - mae: 322.3833 - val_loss: 856.7219 - val_mae: 857.2218\n",
            "\n",
            "Epoch 00040: val_mae did not improve from 821.19397\n",
            "Epoch 41/100\n",
            "224/224 [==============================] - 6s 25ms/step - loss: 315.8478 - mae: 316.3469 - val_loss: 805.3749 - val_mae: 805.8748\n",
            "\n",
            "Epoch 00041: val_mae improved from 821.19397 to 805.87476, saving model to best_model1.h5\n",
            "Epoch 42/100\n",
            "224/224 [==============================] - 6s 25ms/step - loss: 316.0191 - mae: 316.5184 - val_loss: 924.5161 - val_mae: 925.0158\n",
            "\n",
            "Epoch 00042: val_mae did not improve from 805.87476\n",
            "Epoch 43/100\n",
            "224/224 [==============================] - 6s 25ms/step - loss: 308.7887 - mae: 309.2882 - val_loss: 881.5643 - val_mae: 882.0639\n",
            "\n",
            "Epoch 00043: val_mae did not improve from 805.87476\n",
            "Epoch 44/100\n",
            "224/224 [==============================] - 6s 25ms/step - loss: 312.1196 - mae: 312.6189 - val_loss: 879.2106 - val_mae: 879.7103\n",
            "\n",
            "Epoch 00044: val_mae did not improve from 805.87476\n",
            "Epoch 45/100\n",
            "224/224 [==============================] - 6s 26ms/step - loss: 310.3478 - mae: 310.8471 - val_loss: 839.2056 - val_mae: 839.7056\n",
            "\n",
            "Epoch 00045: val_mae did not improve from 805.87476\n",
            "Epoch 46/100\n",
            "224/224 [==============================] - 6s 26ms/step - loss: 304.1428 - mae: 304.6418 - val_loss: 852.9277 - val_mae: 853.4275\n",
            "\n",
            "Epoch 00046: val_mae did not improve from 805.87476\n",
            "Epoch 47/100\n",
            "224/224 [==============================] - 6s 25ms/step - loss: 312.5508 - mae: 313.0500 - val_loss: 841.6976 - val_mae: 842.1974\n",
            "\n",
            "Epoch 00047: val_mae did not improve from 805.87476\n",
            "Epoch 48/100\n",
            "224/224 [==============================] - 6s 25ms/step - loss: 306.8637 - mae: 307.3630 - val_loss: 797.2307 - val_mae: 797.7303\n",
            "\n",
            "Epoch 00048: val_mae improved from 805.87476 to 797.73035, saving model to best_model1.h5\n",
            "Epoch 49/100\n",
            "224/224 [==============================] - 6s 25ms/step - loss: 304.5669 - mae: 305.0661 - val_loss: 853.4280 - val_mae: 853.9280\n",
            "\n",
            "Epoch 00049: val_mae did not improve from 797.73035\n",
            "Epoch 50/100\n",
            "224/224 [==============================] - 6s 25ms/step - loss: 304.6885 - mae: 305.1875 - val_loss: 776.0583 - val_mae: 776.5581\n",
            "\n",
            "Epoch 00050: val_mae improved from 797.73035 to 776.55811, saving model to best_model1.h5\n",
            "Epoch 51/100\n",
            "224/224 [==============================] - 6s 25ms/step - loss: 304.8710 - mae: 305.3701 - val_loss: 836.9340 - val_mae: 837.4340\n",
            "\n",
            "Epoch 00051: val_mae did not improve from 776.55811\n",
            "Epoch 52/100\n",
            "224/224 [==============================] - 6s 26ms/step - loss: 305.6232 - mae: 306.1221 - val_loss: 924.9194 - val_mae: 925.4193\n",
            "\n",
            "Epoch 00052: val_mae did not improve from 776.55811\n",
            "Epoch 53/100\n",
            "224/224 [==============================] - 6s 25ms/step - loss: 306.3046 - mae: 306.8038 - val_loss: 920.8074 - val_mae: 921.3072\n",
            "\n",
            "Epoch 00053: val_mae did not improve from 776.55811\n",
            "Epoch 54/100\n",
            "224/224 [==============================] - 6s 25ms/step - loss: 301.9975 - mae: 302.4966 - val_loss: 844.2415 - val_mae: 844.7408\n",
            "\n",
            "Epoch 00054: val_mae did not improve from 776.55811\n",
            "Epoch 55/100\n",
            "224/224 [==============================] - 6s 25ms/step - loss: 303.4042 - mae: 303.9035 - val_loss: 859.1274 - val_mae: 859.6272\n",
            "\n",
            "Epoch 00055: val_mae did not improve from 776.55811\n",
            "Epoch 56/100\n",
            "224/224 [==============================] - 6s 24ms/step - loss: 302.8272 - mae: 303.3260 - val_loss: 884.8139 - val_mae: 885.3137\n",
            "\n",
            "Epoch 00056: val_mae did not improve from 776.55811\n",
            "Epoch 57/100\n",
            "224/224 [==============================] - 6s 24ms/step - loss: 299.1203 - mae: 299.6196 - val_loss: 931.1930 - val_mae: 931.6929\n",
            "\n",
            "Epoch 00057: val_mae did not improve from 776.55811\n",
            "Epoch 58/100\n",
            "224/224 [==============================] - 6s 26ms/step - loss: 306.1809 - mae: 306.6802 - val_loss: 839.0952 - val_mae: 839.5951\n",
            "\n",
            "Epoch 00058: val_mae did not improve from 776.55811\n",
            "Epoch 59/100\n",
            "224/224 [==============================] - 6s 26ms/step - loss: 298.3259 - mae: 298.8247 - val_loss: 793.3219 - val_mae: 793.8217\n",
            "\n",
            "Epoch 00059: val_mae did not improve from 776.55811\n",
            "Epoch 60/100\n",
            "224/224 [==============================] - 6s 25ms/step - loss: 301.1107 - mae: 301.6099 - val_loss: 805.5560 - val_mae: 806.0555\n",
            "\n",
            "Epoch 00060: val_mae did not improve from 776.55811\n",
            "Epoch 61/100\n",
            "224/224 [==============================] - 6s 25ms/step - loss: 307.1913 - mae: 307.6903 - val_loss: 860.4617 - val_mae: 860.9617\n",
            "\n",
            "Epoch 00061: val_mae did not improve from 776.55811\n",
            "Epoch 62/100\n",
            "224/224 [==============================] - 6s 25ms/step - loss: 299.7900 - mae: 300.2889 - val_loss: 776.5504 - val_mae: 777.0498\n",
            "\n",
            "Epoch 00062: val_mae did not improve from 776.55811\n",
            "Epoch 63/100\n",
            "224/224 [==============================] - 6s 27ms/step - loss: 294.6006 - mae: 295.0996 - val_loss: 818.0006 - val_mae: 818.5000\n",
            "\n",
            "Epoch 00063: val_mae did not improve from 776.55811\n",
            "Epoch 64/100\n",
            "224/224 [==============================] - 6s 26ms/step - loss: 293.6662 - mae: 294.1655 - val_loss: 796.3353 - val_mae: 796.8352\n",
            "\n",
            "Epoch 00064: val_mae did not improve from 776.55811\n",
            "Epoch 65/100\n",
            "224/224 [==============================] - 6s 26ms/step - loss: 295.6724 - mae: 296.1718 - val_loss: 882.4908 - val_mae: 882.9907\n",
            "\n",
            "Epoch 00065: val_mae did not improve from 776.55811\n",
            "Epoch 66/100\n",
            "224/224 [==============================] - 6s 26ms/step - loss: 305.4121 - mae: 305.9113 - val_loss: 857.5549 - val_mae: 858.0547\n",
            "\n",
            "Epoch 00066: val_mae did not improve from 776.55811\n",
            "Epoch 67/100\n",
            "224/224 [==============================] - 6s 26ms/step - loss: 295.4356 - mae: 295.9345 - val_loss: 1088.0585 - val_mae: 1088.5585\n",
            "\n",
            "Epoch 00067: val_mae did not improve from 776.55811\n",
            "Epoch 68/100\n",
            "224/224 [==============================] - 6s 26ms/step - loss: 306.9291 - mae: 307.4282 - val_loss: 870.2056 - val_mae: 870.7055\n",
            "\n",
            "Epoch 00068: val_mae did not improve from 776.55811\n",
            "Epoch 69/100\n",
            "224/224 [==============================] - 6s 26ms/step - loss: 292.5764 - mae: 293.0755 - val_loss: 733.0499 - val_mae: 733.5494\n",
            "\n",
            "Epoch 00069: val_mae improved from 776.55811 to 733.54944, saving model to best_model1.h5\n",
            "Epoch 70/100\n",
            "224/224 [==============================] - 7s 29ms/step - loss: 301.9328 - mae: 302.4320 - val_loss: 797.6541 - val_mae: 798.1537\n",
            "\n",
            "Epoch 00070: val_mae did not improve from 733.54944\n",
            "Epoch 71/100\n",
            "224/224 [==============================] - 6s 27ms/step - loss: 293.1337 - mae: 293.6329 - val_loss: 952.3392 - val_mae: 952.8391\n",
            "\n",
            "Epoch 00071: val_mae did not improve from 733.54944\n",
            "Epoch 72/100\n",
            "224/224 [==============================] - 6s 26ms/step - loss: 301.1938 - mae: 301.6931 - val_loss: 746.0385 - val_mae: 746.5384\n",
            "\n",
            "Epoch 00072: val_mae did not improve from 733.54944\n",
            "Epoch 73/100\n",
            "224/224 [==============================] - 6s 25ms/step - loss: 293.6097 - mae: 294.1089 - val_loss: 754.1031 - val_mae: 754.6028\n",
            "\n",
            "Epoch 00073: val_mae did not improve from 733.54944\n",
            "Epoch 74/100\n",
            "224/224 [==============================] - 6s 25ms/step - loss: 294.2954 - mae: 294.7946 - val_loss: 898.3156 - val_mae: 898.8156\n",
            "\n",
            "Epoch 00074: val_mae did not improve from 733.54944\n",
            "Epoch 75/100\n",
            "224/224 [==============================] - 6s 25ms/step - loss: 301.4576 - mae: 301.9566 - val_loss: 868.6429 - val_mae: 869.1426\n",
            "\n",
            "Epoch 00075: val_mae did not improve from 733.54944\n",
            "Epoch 76/100\n",
            "224/224 [==============================] - 6s 25ms/step - loss: 305.8383 - mae: 306.3375 - val_loss: 873.7956 - val_mae: 874.2954\n",
            "\n",
            "Epoch 00076: val_mae did not improve from 733.54944\n",
            "Epoch 77/100\n",
            "224/224 [==============================] - 6s 26ms/step - loss: 291.5289 - mae: 292.0281 - val_loss: 994.1583 - val_mae: 994.6581\n",
            "\n",
            "Epoch 00077: val_mae did not improve from 733.54944\n",
            "Epoch 78/100\n",
            "224/224 [==============================] - 6s 25ms/step - loss: 290.6973 - mae: 291.1965 - val_loss: 766.0667 - val_mae: 766.5663\n",
            "\n",
            "Epoch 00078: val_mae did not improve from 733.54944\n",
            "Epoch 79/100\n",
            "224/224 [==============================] - 6s 25ms/step - loss: 289.4552 - mae: 289.9544 - val_loss: 927.0172 - val_mae: 927.5168\n",
            "\n",
            "Epoch 00079: val_mae did not improve from 733.54944\n",
            "Epoch 80/100\n",
            "224/224 [==============================] - 6s 26ms/step - loss: 281.5259 - mae: 282.0249 - val_loss: 771.9912 - val_mae: 772.4912\n",
            "\n",
            "Epoch 00080: val_mae did not improve from 733.54944\n",
            "Epoch 81/100\n",
            "224/224 [==============================] - 6s 27ms/step - loss: 291.6788 - mae: 292.1776 - val_loss: 774.0886 - val_mae: 774.5884\n",
            "\n",
            "Epoch 00081: val_mae did not improve from 733.54944\n",
            "Epoch 82/100\n",
            "224/224 [==============================] - 6s 26ms/step - loss: 283.0842 - mae: 283.5833 - val_loss: 799.1943 - val_mae: 799.6942\n",
            "\n",
            "Epoch 00082: val_mae did not improve from 733.54944\n",
            "Epoch 83/100\n",
            "224/224 [==============================] - 6s 25ms/step - loss: 290.4758 - mae: 290.9750 - val_loss: 803.7646 - val_mae: 804.2641\n",
            "\n",
            "Epoch 00083: val_mae did not improve from 733.54944\n",
            "Epoch 84/100\n",
            "224/224 [==============================] - 6s 24ms/step - loss: 288.3514 - mae: 288.8504 - val_loss: 782.1182 - val_mae: 782.6178\n",
            "\n",
            "Epoch 00084: val_mae did not improve from 733.54944\n",
            "Epoch 85/100\n",
            "224/224 [==============================] - 6s 26ms/step - loss: 295.8291 - mae: 296.3283 - val_loss: 727.8301 - val_mae: 728.3300\n",
            "\n",
            "Epoch 00085: val_mae improved from 733.54944 to 728.32996, saving model to best_model1.h5\n",
            "Epoch 86/100\n",
            "224/224 [==============================] - 6s 25ms/step - loss: 287.3387 - mae: 287.8375 - val_loss: 787.6466 - val_mae: 788.1463\n",
            "\n",
            "Epoch 00086: val_mae did not improve from 728.32996\n",
            "Epoch 87/100\n",
            "224/224 [==============================] - 6s 25ms/step - loss: 292.6884 - mae: 293.1876 - val_loss: 740.7088 - val_mae: 741.2086\n",
            "\n",
            "Epoch 00087: val_mae did not improve from 728.32996\n",
            "Epoch 88/100\n",
            "224/224 [==============================] - 6s 25ms/step - loss: 285.7459 - mae: 286.2451 - val_loss: 706.6440 - val_mae: 707.1434\n",
            "\n",
            "Epoch 00088: val_mae improved from 728.32996 to 707.14337, saving model to best_model1.h5\n",
            "Epoch 89/100\n",
            "224/224 [==============================] - 6s 25ms/step - loss: 291.8508 - mae: 292.3500 - val_loss: 705.8604 - val_mae: 706.3600\n",
            "\n",
            "Epoch 00089: val_mae improved from 707.14337 to 706.35999, saving model to best_model1.h5\n",
            "Epoch 90/100\n",
            "224/224 [==============================] - 5s 24ms/step - loss: 284.9721 - mae: 285.4713 - val_loss: 773.4094 - val_mae: 773.9094\n",
            "\n",
            "Epoch 00090: val_mae did not improve from 706.35999\n",
            "Epoch 00090: early stopping\n"
          ]
        }
      ]
    },
    {
      "cell_type": "markdown",
      "metadata": {
        "id": "AlKNELLEoKIB"
      },
      "source": [
        "### Training Results"
      ]
    },
    {
      "cell_type": "code",
      "metadata": {
        "id": "JFgKiWfPoHuB",
        "colab": {
          "base_uri": "https://localhost:8080/",
          "height": 295
        },
        "outputId": "7aeb50f1-b126-4780-c024-d0381bd60f69"
      },
      "source": [
        "plt.plot(history1.history['mae'], label='mae')\n",
        "plt.plot(history1.history['val_mae'], label='val_mae')\n",
        "\n",
        "plt.title(\"Plot Loss and MAE\")\n",
        "plt.xlabel('Epoch')\n",
        "plt.ylabel('Loss')\n",
        "plt.legend()\n",
        "plt.grid(True)\n",
        "\n",
        "plt.show()"
      ],
      "execution_count": 63,
      "outputs": [
        {
          "output_type": "display_data",
          "data": {
            "image/png": "[encoded data removed]",
            "text/plain": [
              "<Figure size 432x288 with 1 Axes>"
            ]
          },
          "metadata": {
            "needs_background": "light"
          }
        }
      ]
    }
  ]
}